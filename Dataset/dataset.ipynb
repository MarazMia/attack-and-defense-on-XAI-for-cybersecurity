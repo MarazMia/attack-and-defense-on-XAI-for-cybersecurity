{
 "cells": [
  {
   "cell_type": "code",
   "execution_count": 1,
   "metadata": {},
   "outputs": [],
   "source": [
    "import os\n",
    "import sys\n",
    "import matplotlib.pyplot as plt\n",
    "import pandas as pd\n",
    "\n",
    "def add_to_sys_path(relative_path):\n",
    "    abs_path = os.path.abspath(os.path.join(os.getcwd(), relative_path))\n",
    "    if abs_path not in sys.path:\n",
    "        sys.path.append(abs_path)\n",
    "\n",
    "add_to_sys_path(os.path.join('..', 'Utils'))"
   ]
  },
  {
   "cell_type": "code",
   "execution_count": 2,
   "metadata": {},
   "outputs": [
    {
     "name": "stderr",
     "output_type": "stream",
     "text": [
      "C:\\Users\\mmia43\\AppData\\Local\\Temp\\ipykernel_13056\\2253636936.py:2: FutureWarning: Downcasting behavior in `replace` is deprecated and will be removed in a future version. To retain the old behavior, explicitly call `result.infer_objects(copy=False)`. To opt-in to the future behavior, set `pd.set_option('future.no_silent_downcasting', True)`\n",
      "  ecomdata['Label'] = ecomdata['Label'].replace({'fraudulent': 0, 'legitimate': 1})\n"
     ]
    },
    {
     "data": {
      "text/plain": [
       "Label\n",
       "0    579\n",
       "1    561\n",
       "Name: count, dtype: int64"
      ]
     },
     "execution_count": 2,
     "metadata": {},
     "output_type": "execute_result"
    }
   ],
   "source": [
    "ecomdata = pd.read_csv('Fraudulent_online_shops_dataset.csv')\n",
    "ecomdata['Label'] = ecomdata['Label'].replace({'fraudulent': 0, 'legitimate': 1})\n",
    "ecomdata['Presence of free contact emails'] = ecomdata['Presence of free contact emails'].replace({2: 1, 3: 1})\n",
    "ecomdata['Indication of young domain '] = ecomdata['Indication of young domain '].replace({2: 1})\n",
    "ecomdata = ecomdata.drop(ecomdata.select_dtypes(include='object').columns, axis=1)\n",
    "ecomdata['Label'].value_counts()"
   ]
  },
  {
   "cell_type": "code",
   "execution_count": 3,
   "metadata": {},
   "outputs": [
    {
     "name": "stdout",
     "output_type": "stream",
     "text": [
      "benign info\n",
      "Indication of young domain \n",
      "0    475\n",
      "1     86\n",
      "Name: count, dtype: int64\n",
      "malicious info\n",
      "Indication of young domain \n",
      "1    504\n",
      "0     75\n",
      "Name: count, dtype: int64\n"
     ]
    }
   ],
   "source": [
    "#protected feature info\n",
    "print('benign info')\n",
    "print(ecomdata[ecomdata['Label']==1]['Indication of young domain '].value_counts())\n",
    "print('malicious info')\n",
    "print(ecomdata[ecomdata['Label']==0]['Indication of young domain '].value_counts())"
   ]
  },
  {
   "cell_type": "code",
   "execution_count": 4,
   "metadata": {},
   "outputs": [
    {
     "name": "stdout",
     "output_type": "stream",
     "text": [
      "<class 'pandas.core.frame.DataFrame'>\n",
      "RangeIndex: 1140 entries, 0 to 1139\n",
      "Data columns (total 21 columns):\n",
      " #   Column                                         Non-Null Count  Dtype  \n",
      "---  ------                                         --------------  -----  \n",
      " 0   Label                                          1140 non-null   int64  \n",
      " 1   Domain length                                  1140 non-null   int64  \n",
      " 2   Top domain length                              1140 non-null   int64  \n",
      " 3   Presence of prefix 'www'                       1140 non-null   int64  \n",
      " 4   Number  of digits                              1140 non-null   int64  \n",
      " 5   Number  of letters                             1140 non-null   int64  \n",
      " 6   Number  of dots (.)                            1140 non-null   int64  \n",
      " 7   Number  of hyphens (-)                         1140 non-null   int64  \n",
      " 8   Presence of credit card payment                1140 non-null   int64  \n",
      " 9   Presence of money back payment                 1140 non-null   int64  \n",
      " 10  Presence of cash on delivery payment           1140 non-null   int64  \n",
      " 11  Presence of crypto currency                    1140 non-null   int64  \n",
      " 12  Presence of free contact emails                1140 non-null   int64  \n",
      " 13  Presence of logo URL                           1140 non-null   int64  \n",
      " 14  SSL certificate issuer organization list item  1140 non-null   int64  \n",
      " 15  Indication of young domain                     1140 non-null   int64  \n",
      " 16  Presence of TrustPilot reviews                 1140 non-null   int64  \n",
      " 17  TrustPilot score                               580 non-null    float64\n",
      " 18  Presence of SiteJabber reviews                 1140 non-null   int64  \n",
      " 19  Presence in the standard Tranco list           1140 non-null   int64  \n",
      " 20  Tranco List rank                               1140 non-null   int64  \n",
      "dtypes: float64(1), int64(20)\n",
      "memory usage: 187.2 KB\n"
     ]
    }
   ],
   "source": [
    "ecomdata.info()"
   ]
  },
  {
   "cell_type": "code",
   "execution_count": 5,
   "metadata": {},
   "outputs": [
    {
     "data": {
      "text/plain": [
       "8"
      ]
     },
     "execution_count": 5,
     "metadata": {},
     "output_type": "execute_result"
    }
   ],
   "source": [
    "ecom_original_num_feature = ['Domain length', 'Top domain length', 'Number  of digits', 'Number  of letters', 'Number  of dots (.)','Number  of hyphens (-)', 'TrustPilot score', 'Tranco List rank']\n",
    "len(ecom_original_num_feature)"
   ]
  },
  {
   "cell_type": "code",
   "execution_count": 6,
   "metadata": {},
   "outputs": [
    {
     "data": {
      "text/plain": [
       "label\n",
       "1    134850\n",
       "0    100945\n",
       "Name: count, dtype: int64"
      ]
     },
     "execution_count": 6,
     "metadata": {},
     "output_type": "execute_result"
    }
   ],
   "source": [
    "phish_data = pd.read_csv('PhiUSIIL_Phishing_URL_Dataset.csv')\n",
    "phish_data = phish_data.drop(phish_data.select_dtypes(include='object').columns, axis=1)\n",
    "phish_data['label'].value_counts()"
   ]
  },
  {
   "cell_type": "code",
   "execution_count": 7,
   "metadata": {},
   "outputs": [
    {
     "name": "stdout",
     "output_type": "stream",
     "text": [
      "benign info\n",
      "IsHTTPS\n",
      "1    134850\n",
      "Name: count, dtype: int64\n",
      "malicious info\n",
      "IsHTTPS\n",
      "0    51256\n",
      "1    49689\n",
      "Name: count, dtype: int64\n"
     ]
    }
   ],
   "source": [
    "#protected feature info\n",
    "print('benign info')\n",
    "print(phish_data[phish_data['label']==1]['IsHTTPS'].value_counts())\n",
    "print('malicious info')\n",
    "print(phish_data[phish_data['label']==0]['IsHTTPS'].value_counts())"
   ]
  },
  {
   "cell_type": "code",
   "execution_count": 8,
   "metadata": {},
   "outputs": [
    {
     "name": "stdout",
     "output_type": "stream",
     "text": [
      "<class 'pandas.core.frame.DataFrame'>\n",
      "RangeIndex: 235795 entries, 0 to 235794\n",
      "Data columns (total 51 columns):\n",
      " #   Column                      Non-Null Count   Dtype  \n",
      "---  ------                      --------------   -----  \n",
      " 0   URLLength                   235795 non-null  int64  \n",
      " 1   DomainLength                235795 non-null  int64  \n",
      " 2   IsDomainIP                  235795 non-null  int64  \n",
      " 3   URLSimilarityIndex          235795 non-null  float64\n",
      " 4   CharContinuationRate        235795 non-null  float64\n",
      " 5   TLDLegitimateProb           235795 non-null  float64\n",
      " 6   URLCharProb                 235795 non-null  float64\n",
      " 7   TLDLength                   235795 non-null  int64  \n",
      " 8   NoOfSubDomain               235795 non-null  int64  \n",
      " 9   HasObfuscation              235795 non-null  int64  \n",
      " 10  NoOfObfuscatedChar          235795 non-null  int64  \n",
      " 11  ObfuscationRatio            235795 non-null  float64\n",
      " 12  NoOfLettersInURL            235795 non-null  int64  \n",
      " 13  LetterRatioInURL            235795 non-null  float64\n",
      " 14  NoOfDegitsInURL             235795 non-null  int64  \n",
      " 15  DegitRatioInURL             235795 non-null  float64\n",
      " 16  NoOfEqualsInURL             235795 non-null  int64  \n",
      " 17  NoOfQMarkInURL              235795 non-null  int64  \n",
      " 18  NoOfAmpersandInURL          235795 non-null  int64  \n",
      " 19  NoOfOtherSpecialCharsInURL  235795 non-null  int64  \n",
      " 20  SpacialCharRatioInURL       235795 non-null  float64\n",
      " 21  IsHTTPS                     235795 non-null  int64  \n",
      " 22  LineOfCode                  235795 non-null  int64  \n",
      " 23  LargestLineLength           235795 non-null  int64  \n",
      " 24  HasTitle                    235795 non-null  int64  \n",
      " 25  DomainTitleMatchScore       235795 non-null  float64\n",
      " 26  URLTitleMatchScore          235795 non-null  float64\n",
      " 27  HasFavicon                  235795 non-null  int64  \n",
      " 28  Robots                      235795 non-null  int64  \n",
      " 29  IsResponsive                235795 non-null  int64  \n",
      " 30  NoOfURLRedirect             235795 non-null  int64  \n",
      " 31  NoOfSelfRedirect            235795 non-null  int64  \n",
      " 32  HasDescription              235795 non-null  int64  \n",
      " 33  NoOfPopup                   235795 non-null  int64  \n",
      " 34  NoOfiFrame                  235795 non-null  int64  \n",
      " 35  HasExternalFormSubmit       235795 non-null  int64  \n",
      " 36  HasSocialNet                235795 non-null  int64  \n",
      " 37  HasSubmitButton             235795 non-null  int64  \n",
      " 38  HasHiddenFields             235795 non-null  int64  \n",
      " 39  HasPasswordField            235795 non-null  int64  \n",
      " 40  Bank                        235795 non-null  int64  \n",
      " 41  Pay                         235795 non-null  int64  \n",
      " 42  Crypto                      235795 non-null  int64  \n",
      " 43  HasCopyrightInfo            235795 non-null  int64  \n",
      " 44  NoOfImage                   235795 non-null  int64  \n",
      " 45  NoOfCSS                     235795 non-null  int64  \n",
      " 46  NoOfJS                      235795 non-null  int64  \n",
      " 47  NoOfSelfRef                 235795 non-null  int64  \n",
      " 48  NoOfEmptyRef                235795 non-null  int64  \n",
      " 49  NoOfExternalRef             235795 non-null  int64  \n",
      " 50  label                       235795 non-null  int64  \n",
      "dtypes: float64(10), int64(41)\n",
      "memory usage: 91.7 MB\n"
     ]
    }
   ],
   "source": [
    "phish_data.info()"
   ]
  },
  {
   "cell_type": "code",
   "execution_count": 9,
   "metadata": {},
   "outputs": [
    {
     "data": {
      "text/plain": [
       "16"
      ]
     },
     "execution_count": 9,
     "metadata": {},
     "output_type": "execute_result"
    }
   ],
   "source": [
    "phish_original_cat_feature = ['IsDomainIP', 'IsHTTPS', 'HasTitle', 'HasFavicon', 'Robots','IsResponsive', 'HasDescription', 'HasExternalFormSubmit', 'HasSocialNet', 'HasSubmitButton', 'HasHiddenFields', 'HasPasswordField', 'Bank', 'pay', 'Crypto', 'HasCopyrightInfo']\n",
    "len(phish_original_cat_feature)"
   ]
  },
  {
   "cell_type": "code",
   "execution_count": 10,
   "metadata": {},
   "outputs": [
    {
     "name": "stderr",
     "output_type": "stream",
     "text": [
      "C:\\Users\\mmia43\\AppData\\Local\\Temp\\ipykernel_13056\\2492963019.py:2: FutureWarning: Downcasting behavior in `replace` is deprecated and will be removed in a future version. To retain the old behavior, explicitly call `result.infer_objects(copy=False)`. To opt-in to the future behavior, set `pd.set_option('future.no_silent_downcasting', True)`\n",
      "  ids_data['protocol_type'] = ids_data['protocol_type'].replace({'ICMP': 0, 'TCP': 1, 'UDP': 2})\n",
      "C:\\Users\\mmia43\\AppData\\Local\\Temp\\ipykernel_13056\\2492963019.py:3: FutureWarning: Downcasting behavior in `replace` is deprecated and will be removed in a future version. To retain the old behavior, explicitly call `result.infer_objects(copy=False)`. To opt-in to the future behavior, set `pd.set_option('future.no_silent_downcasting', True)`\n",
      "  ids_data['encryption_used'] = ids_data['encryption_used'].replace({'AES': 0, 'DES': 1})\n"
     ]
    },
    {
     "data": {
      "text/plain": [
       "attack_detected\n",
       "1    5273\n",
       "0    4264\n",
       "Name: count, dtype: int64"
      ]
     },
     "execution_count": 10,
     "metadata": {},
     "output_type": "execute_result"
    }
   ],
   "source": [
    "ids_data = pd.read_csv('cybersecurity_intrusion_data.csv')\n",
    "ids_data['protocol_type'] = ids_data['protocol_type'].replace({'ICMP': 0, 'TCP': 1, 'UDP': 2})\n",
    "ids_data['encryption_used'] = ids_data['encryption_used'].replace({'AES': 0, 'DES': 1})\n",
    "ids_data['attack_detected'] = ids_data['attack_detected'].replace({0: 1, 1: 0})\n",
    "ids_data['encryption_used'] = ids_data['encryption_used'].fillna(0)\n",
    "ids_data = ids_data.drop(ids_data.select_dtypes(include='object').columns, axis=1)\n",
    "has_failed_logins = []\n",
    "for i in ids_data['failed_logins']:\n",
    "    if i:\n",
    "        has_failed_logins.append(1)\n",
    "    else:\n",
    "        has_failed_logins.append(0)\n",
    "\n",
    "ids_data['has_failed_logins'] = has_failed_logins\n",
    "ids_data['attack_detected'].value_counts()"
   ]
  },
  {
   "cell_type": "code",
   "execution_count": 11,
   "metadata": {},
   "outputs": [
    {
     "name": "stdout",
     "output_type": "stream",
     "text": [
      "benign info\n",
      "has_failed_logins\n",
      "1    4231\n",
      "0    1042\n",
      "Name: count, dtype: int64\n",
      "malicious info\n",
      "has_failed_logins\n",
      "1    3728\n",
      "0     536\n",
      "Name: count, dtype: int64\n"
     ]
    }
   ],
   "source": [
    "#protected feature info\n",
    "print('benign info')\n",
    "print(ids_data[ids_data['attack_detected']==1]['has_failed_logins'].value_counts())\n",
    "print('malicious info')\n",
    "print(ids_data[ids_data['attack_detected']==0]['has_failed_logins'].value_counts())"
   ]
  },
  {
   "cell_type": "code",
   "execution_count": 12,
   "metadata": {},
   "outputs": [
    {
     "name": "stdout",
     "output_type": "stream",
     "text": [
      "<class 'pandas.core.frame.DataFrame'>\n",
      "RangeIndex: 9537 entries, 0 to 9536\n",
      "Data columns (total 10 columns):\n",
      " #   Column               Non-Null Count  Dtype  \n",
      "---  ------               --------------  -----  \n",
      " 0   network_packet_size  9537 non-null   int64  \n",
      " 1   protocol_type        9537 non-null   int64  \n",
      " 2   login_attempts       9537 non-null   int64  \n",
      " 3   session_duration     9537 non-null   float64\n",
      " 4   encryption_used      9537 non-null   float64\n",
      " 5   ip_reputation_score  9537 non-null   float64\n",
      " 6   failed_logins        9537 non-null   int64  \n",
      " 7   unusual_time_access  9537 non-null   int64  \n",
      " 8   attack_detected      9537 non-null   int64  \n",
      " 9   has_failed_logins    9537 non-null   int64  \n",
      "dtypes: float64(3), int64(7)\n",
      "memory usage: 745.2 KB\n"
     ]
    }
   ],
   "source": [
    "ids_data.info()"
   ]
  },
  {
   "cell_type": "code",
   "execution_count": 13,
   "metadata": {},
   "outputs": [
    {
     "data": {
      "text/plain": [
       "2"
      ]
     },
     "execution_count": 13,
     "metadata": {},
     "output_type": "execute_result"
    }
   ],
   "source": [
    "ids_original_cat_feature = ['protocol_type', 'encryption_used']\n",
    "len(ids_original_cat_feature)"
   ]
  },
  {
   "cell_type": "code",
   "execution_count": 14,
   "metadata": {},
   "outputs": [
    {
     "name": "stderr",
     "output_type": "stream",
     "text": [
      "C:\\Users\\mmia43\\AppData\\Local\\Temp\\ipykernel_13056\\2763404031.py:1: DtypeWarning: Columns (2) have mixed types. Specify dtype option on import or set low_memory=False.\n",
      "  mal_data = pd.read_csv('Kaggle-data.csv')\n"
     ]
    },
    {
     "data": {
      "text/plain": [
       "legitimate\n",
       "0    140849\n",
       "1     75503\n",
       "Name: count, dtype: int64"
      ]
     },
     "execution_count": 14,
     "metadata": {},
     "output_type": "execute_result"
    }
   ],
   "source": [
    "mal_data = pd.read_csv('Kaggle-data.csv')\n",
    "mal_data = mal_data.drop(columns=['ID', 'Unnamed: 57'])\n",
    "mal_data = mal_data.drop(mal_data.select_dtypes(include='object').columns, axis=1)\n",
    "mal_data['legitimate'].value_counts()"
   ]
  },
  {
   "cell_type": "code",
   "execution_count": 15,
   "metadata": {},
   "outputs": [
    {
     "name": "stdout",
     "output_type": "stream",
     "text": [
      "benign info\n",
      "Subsystem\n",
      "3     41732\n",
      "2     31286\n",
      "1      2370\n",
      "16       58\n",
      "9        57\n",
      "Name: count, dtype: int64\n",
      "malicious info\n",
      "Subsystem\n",
      "2    135280\n",
      "3      5409\n",
      "1       139\n",
      "0        21\n",
      "Name: count, dtype: int64\n"
     ]
    }
   ],
   "source": [
    "#protected feature info\n",
    "print('benign info')\n",
    "print(mal_data[mal_data['legitimate']==1]['Subsystem'].value_counts())\n",
    "print('malicious info')\n",
    "print(mal_data[mal_data['legitimate']==0]['Subsystem'].value_counts())"
   ]
  },
  {
   "cell_type": "code",
   "execution_count": 16,
   "metadata": {},
   "outputs": [
    {
     "name": "stdout",
     "output_type": "stream",
     "text": [
      "<class 'pandas.core.frame.DataFrame'>\n",
      "RangeIndex: 216352 entries, 0 to 216351\n",
      "Data columns (total 54 columns):\n",
      " #   Column                       Non-Null Count   Dtype  \n",
      "---  ------                       --------------   -----  \n",
      " 0   SizeOfOptionalHeader         216352 non-null  int64  \n",
      " 1   Characteristics              216352 non-null  int64  \n",
      " 2   MajorLinkerVersion           216351 non-null  float64\n",
      " 3   MinorLinkerVersion           216352 non-null  int64  \n",
      " 4   SizeOfCode                   216352 non-null  int64  \n",
      " 5   SizeOfInitializedData        216352 non-null  int64  \n",
      " 6   SizeOfUninitializedData      216352 non-null  int64  \n",
      " 7   AddressOfEntryPoint          216352 non-null  int64  \n",
      " 8   BaseOfCode                   216352 non-null  int64  \n",
      " 9   BaseOfData                   216352 non-null  int64  \n",
      " 10  ImageBase                    216352 non-null  float64\n",
      " 11  SectionAlignment             216352 non-null  int64  \n",
      " 12  FileAlignment                216352 non-null  int64  \n",
      " 13  MajorOperatingSystemVersion  216352 non-null  int64  \n",
      " 14  MinorOperatingSystemVersion  216352 non-null  int64  \n",
      " 15  MajorImageVersion            216352 non-null  int64  \n",
      " 16  MinorImageVersion            216352 non-null  int64  \n",
      " 17  MajorSubsystemVersion        216352 non-null  int64  \n",
      " 18  MinorSubsystemVersion        216352 non-null  int64  \n",
      " 19  SizeOfImage                  216352 non-null  int64  \n",
      " 20  SizeOfHeaders                216352 non-null  int64  \n",
      " 21  CheckSum                     216352 non-null  int64  \n",
      " 22  Subsystem                    216352 non-null  int64  \n",
      " 23  DllCharacteristics           216352 non-null  int64  \n",
      " 24  SizeOfStackReserve           216352 non-null  int64  \n",
      " 25  SizeOfStackCommit            216352 non-null  int64  \n",
      " 26  SizeOfHeapReserve            216352 non-null  int64  \n",
      " 27  SizeOfHeapCommit             216352 non-null  int64  \n",
      " 28  LoaderFlags                  216352 non-null  int64  \n",
      " 29  NumberOfRvaAndSizes          216352 non-null  int64  \n",
      " 30  SectionsNb                   216352 non-null  int64  \n",
      " 31  SectionsMeanEntropy          216352 non-null  float64\n",
      " 32  SectionsMinEntropy           216352 non-null  float64\n",
      " 33  SectionsMaxEntropy           216352 non-null  float64\n",
      " 34  SectionsMeanRawsize          216352 non-null  float64\n",
      " 35  SectionsMinRawsize           216352 non-null  int64  \n",
      " 36  SectionMaxRawsize            216352 non-null  int64  \n",
      " 37  SectionsMeanVirtualsize      216352 non-null  float64\n",
      " 38  SectionsMinVirtualsize       216352 non-null  float64\n",
      " 39  SectionMaxVirtualsize        216352 non-null  int64  \n",
      " 40  ImportsNbDLL                 216352 non-null  int64  \n",
      " 41  ImportsNb                    216352 non-null  int64  \n",
      " 42  ImportsNbOrdinal             216352 non-null  int64  \n",
      " 43  ExportNb                     216352 non-null  int64  \n",
      " 44  ResourcesNb                  216352 non-null  int64  \n",
      " 45  ResourcesMeanEntropy         216352 non-null  float64\n",
      " 46  ResourcesMinEntropy          216352 non-null  float64\n",
      " 47  ResourcesMaxEntropy          216352 non-null  float64\n",
      " 48  ResourcesMeanSize            216352 non-null  float64\n",
      " 49  ResourcesMinSize             216352 non-null  float64\n",
      " 50  ResourcesMaxSize             216352 non-null  int64  \n",
      " 51  LoadConfigurationSize        216352 non-null  int64  \n",
      " 52  VersionInformationSize       216352 non-null  int64  \n",
      " 53  legitimate                   216352 non-null  int64  \n",
      "dtypes: float64(13), int64(41)\n",
      "memory usage: 89.1 MB\n"
     ]
    }
   ],
   "source": [
    "mal_data.info()"
   ]
  },
  {
   "cell_type": "code",
   "execution_count": 17,
   "metadata": {},
   "outputs": [
    {
     "data": {
      "text/plain": [
       "2"
      ]
     },
     "execution_count": 17,
     "metadata": {},
     "output_type": "execute_result"
    }
   ],
   "source": [
    "len(mal_data['legitimate'].value_counts())"
   ]
  },
  {
   "cell_type": "code",
   "execution_count": 18,
   "metadata": {},
   "outputs": [
    {
     "name": "stdout",
     "output_type": "stream",
     "text": [
      "MajorSubsystemVersion\n",
      "Subsystem\n",
      "legitimate\n"
     ]
    }
   ],
   "source": [
    "for i in mal_data.columns:\n",
    "    if len(mal_data[i].value_counts())<10:\n",
    "        print(i)"
   ]
  },
  {
   "cell_type": "code",
   "execution_count": 19,
   "metadata": {},
   "outputs": [
    {
     "data": {
      "text/plain": [
       "2"
      ]
     },
     "execution_count": 19,
     "metadata": {},
     "output_type": "execute_result"
    }
   ],
   "source": [
    "mal_original_cat_feature = ['protocol_type', 'encryption_used']\n",
    "len(mal_original_cat_feature)"
   ]
  },
  {
   "cell_type": "code",
   "execution_count": 21,
   "metadata": {},
   "outputs": [
    {
     "data": {
      "image/png": "[encoded data removed]",
      "text/plain": [
       "<Figure size 650x364 with 1 Axes>"
      ]
     },
     "metadata": {},
     "output_type": "display_data"
    }
   ],
   "source": [
    "import matplotlib.pyplot as plt\n",
    "import numpy as np\n",
    "\n",
    "def plot_model_metrics(model_names, accuracy_scores, f1_scores, Malwareolors=None):\n",
    "    \"\"\"\n",
    "    Plots the accuracy and F1-score of multiple models across different datasets.\n",
    "\n",
    "    Args:\n",
    "        model_names (list): A list of strings, where each string is the name of a model.\n",
    "                            (Expected to be 9 model names)\n",
    "        accuracy_scores (dict): A dictionary where keys are dataset names (str) and values\n",
    "                                are lists of accuracy scores for each model in `model_names`.\n",
    "                                Each list should have 9 accuracy scores.\n",
    "        f1_scores (dict): A dictionary where keys are dataset names (str) and values\n",
    "                          are lists of F1-scores for each model in `model_names`.\n",
    "                          Each list should have 9 F1-scores.\n",
    "        Malwareolors (dict, optional): A dictionary mapping dataset names to specific\n",
    "                                         colors (e.g., {'Dataset1': 'blue', 'Dataset2': 'green'}).\n",
    "                                         If None, default colors will be used.\n",
    "    \"\"\"\n",
    "    num_models = len(model_names)\n",
    "    if num_models != 9:\n",
    "        print(f\"Warning: Expected 9 model names, but got {num_models}. Plotting as is.\")\n",
    "\n",
    "    datasets = list(accuracy_scores.keys())\n",
    "    num_datasets = len(datasets)\n",
    "\n",
    "    if Malwareolors is None:\n",
    "        # Default colors if not provided\n",
    "        prop_cycle = plt.rcParams['axes.prop_cycle']\n",
    "        colors = prop_cycle.by_key()['color']\n",
    "        default_colors = {datasets[i]: colors[i % len(colors)] for i in range(num_datasets)}\n",
    "        Malwareolors = default_colors\n",
    "    else:\n",
    "        # Validate provided colors\n",
    "        for ds in datasets:\n",
    "            if ds not in Malwareolors:\n",
    "                raise ValueError(f\"Color for dataset '{ds}' not provided in Malwareolors.\")\n",
    "\n",
    "    x = np.arange(num_models) # the label locations for models\n",
    "\n",
    "    plt.figure(figsize=(6.5, 3.64))\n",
    "    ax = plt.gca() # Get the current axes\n",
    "\n",
    "    # --- REMOVE THE BLACK BORDER ---\n",
    "    ax.spines['top'].set_visible(False)\n",
    "    ax.spines['right'].set_visible(False)\n",
    "    ax.spines['bottom'].set_visible(False)\n",
    "    ax.spines['left'].set_visible(False)\n",
    "    # --- END BORDER REMOVAL ---\n",
    "\n",
    "    # To collect handles for the legend\n",
    "    line_handles = []\n",
    "\n",
    "    # Plot for each dataset\n",
    "    for i, dataset_name in enumerate(datasets):\n",
    "        acc = accuracy_scores[dataset_name]\n",
    "        f1 = f1_scores[dataset_name]\n",
    "        color = Malwareolors[dataset_name]\n",
    "\n",
    "        # Plot Accuracy with 'x' marker\n",
    "        acc_line, = plt.plot(x + (i * 0.05 - (num_datasets - 1) * 0.025), # Small offset for visibility\n",
    "                 acc,\n",
    "                 marker='x', linestyle='-', color=color)\n",
    "\n",
    "        # Plot F1-Score with 'o' marker\n",
    "        f1_line, = plt.plot(x + (i * 0.05 - (num_datasets - 1) * 0.025), # Same offset\n",
    "                 f1,\n",
    "                 marker='o', linestyle='--', color=color)\n",
    "\n",
    "        # Collect handles for the legend for each dataset's color\n",
    "        if not any(h.get_label() == dataset_name for h in line_handles):\n",
    "             line_handles.append(plt.Line2D([0], [0], color=color, lw=4, label=dataset_name))\n",
    "\n",
    "\n",
    "    # Add handles for Accuracy ('x') and F1-Score ('o') markers\n",
    "    line_handles.append(plt.Line2D([0], [0], marker='x', color='black', linestyle='None', markersize=8, label='Accuracy'))\n",
    "    line_handles.append(plt.Line2D([0], [0], marker='o', color='black', linestyle='None', markersize=8, label='F1-Score'))\n",
    "\n",
    "\n",
    "    plt.ylabel('Score')\n",
    "    plt.xticks(x, model_names, rotation=10, ha='right') # Rotate model names for readability\n",
    "    plt.ylim(0, 1) # Scores are typically between 0 and 1\n",
    "    plt.grid(axis='y', linestyle='--', alpha=0.7)\n",
    "\n",
    "    # Place legend at the bottom and arrange in two columns\n",
    "    # Set ncol to 3 to get 2 rows (4 datasets + 2 markers = 6 items; 6/2 = 3 columns)\n",
    "    plt.legend(handles=line_handles, loc='upper center', bbox_to_anchor=(0.5, -0.2),\n",
    "               fancybox=True, shadow=True, ncol=3) # Changed ncol from (num_datasets + 2) to 3\n",
    "    plt.tight_layout(rect=[0, 0.1, 1, 1]) # Adjust layout to make space for the legend at the bottom\n",
    "    plt.show()\n",
    "\n",
    "# --- Demo Arrays (same as before) ---\n",
    "demo_model_names = ['UN_LR', 'UN_XGB', 'UN_SMLP','UN_PMLP', 'OOD_LR', 'OOD_XGB', 'OOD_SMLP','OOD_PMLP', 'MAKRUT_PMLP']\n",
    "\n",
    "demo_accuracy_scores = {\n",
    "    'Phishing': [0.9778, 0.9936, 0.9981, 0.9931, 0.9670, 0.9810, 0.99, 0.98, 0.9625],\n",
    "    'IDS': [0.726, 0.84, 0.85, 0.81, 0.745, 0.845, 0.88, 0.856, 0.74],\n",
    "    'Malware': [0.8961, 0.9695, 0.9772, 0.945, 0.9061, 0.91, 0.901, 0.90, 0.9318],\n",
    "    'E-commerce': [0.8216, 0.8392, 0.8216, 0.8596, 0.8655, 0.8772, 0.8596, 0.8584, 0.8465]\n",
    "}\n",
    "\n",
    "demo_f1_scores = {\n",
    "    'Phishing': [0.9778, 0.9936, 0.9981, 0.9931, 0.96, 0.975, 0.980, 0.98, 0.952],\n",
    "    'IDS': [0.7236, 0.84, 0.85, 0.81, 0.74, 0.84, 0.87, 0.85, 0.74],\n",
    "    'Malware': [0.8942, 0.9695, 0.9772, 0.947, 0.90, 0.90, 0.89, 0.90, 0.9259],\n",
    "    'E-commerce': [0.8218, 0.839, 0.8216, 0.8596, 0.86, 0.87, 0.86, 0.85, 0.8461]\n",
    "}\n",
    "\n",
    "# Define specific colors for datasets\n",
    "custom_colors = {\n",
    "    'Phishing': 'lightblue',\n",
    "    'IDS': 'olive',\n",
    "    'Malware': 'coral',\n",
    "    'E-commerce': 'grey'\n",
    "}\n",
    "\n",
    "# --- Call the function with demo data ---\n",
    "plot_model_metrics(demo_model_names, demo_accuracy_scores, demo_f1_scores, Malwareolors=custom_colors)"
   ]
  }
 ],
 "metadata": {
  "kernelspec": {
   "display_name": "Python 3",
   "language": "python",
   "name": "python3"
  },
  "language_info": {
   "codemirror_mode": {
    "name": "ipython",
    "version": 3
   },
   "file_extension": ".py",
   "mimetype": "text/x-python",
   "name": "python",
   "nbconvert_exporter": "python",
   "pygments_lexer": "ipython3",
   "version": "3.10.14"
  }
 },
 "nbformat": 4,
 "nbformat_minor": 2
}
