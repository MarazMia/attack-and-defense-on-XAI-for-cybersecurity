{
 "cells": [
  {
   "cell_type": "code",
   "execution_count": 1,
   "id": "796b59a1",
   "metadata": {},
   "outputs": [],
   "source": [
    "import os\n",
    "import sys\n",
    "\n",
    "def add_to_sys_path(relative_path):\n",
    "    abs_path = os.path.abspath(os.path.join(os.getcwd(), relative_path))\n",
    "    if abs_path not in sys.path:\n",
    "        sys.path.append(abs_path)\n",
    "\n",
    "add_to_sys_path(os.path.join('..', '..', '..', 'Utils'))\n",
    "add_to_sys_path(os.path.join('..', '..', '..', 'Model'))\n",
    "add_to_sys_path(os.path.join('..', '..', '..', 'Biased Sampling'))"
   ]
  },
  {
   "cell_type": "code",
   "execution_count": 2,
   "id": "cf27fbdd",
   "metadata": {},
   "outputs": [
    {
     "name": "stderr",
     "output_type": "stream",
     "text": [
      "IProgress not found. Please update jupyter and ipywidgets. See https://ipywidgets.readthedocs.io/en/stable/user_install.html\n"
     ]
    }
   ],
   "source": [
    "import pandas as pd\n",
    "\n",
    "from TabNet import base_model as base_model_call\n",
    "from model_data_processing import Data_Handler, Model_Metrics_Visualizer\n",
    "from stealthy_sampling import *"
   ]
  },
  {
   "cell_type": "code",
   "execution_count": 3,
   "id": "91d108af",
   "metadata": {},
   "outputs": [
    {
     "data": {
      "text/html": [
       "<div>\n",
       "<style scoped>\n",
       "    .dataframe tbody tr th:only-of-type {\n",
       "        vertical-align: middle;\n",
       "    }\n",
       "\n",
       "    .dataframe tbody tr th {\n",
       "        vertical-align: top;\n",
       "    }\n",
       "\n",
       "    .dataframe thead th {\n",
       "        text-align: right;\n",
       "    }\n",
       "</style>\n",
       "<table border=\"1\" class=\"dataframe\">\n",
       "  <thead>\n",
       "    <tr style=\"text-align: right;\">\n",
       "      <th></th>\n",
       "      <th>session_id</th>\n",
       "      <th>network_packet_size</th>\n",
       "      <th>protocol_type</th>\n",
       "      <th>login_attempts</th>\n",
       "      <th>session_duration</th>\n",
       "      <th>encryption_used</th>\n",
       "      <th>ip_reputation_score</th>\n",
       "      <th>failed_logins</th>\n",
       "      <th>browser_type</th>\n",
       "      <th>unusual_time_access</th>\n",
       "      <th>attack_detected</th>\n",
       "    </tr>\n",
       "  </thead>\n",
       "  <tbody>\n",
       "    <tr>\n",
       "      <th>0</th>\n",
       "      <td>SID_00001</td>\n",
       "      <td>599</td>\n",
       "      <td>TCP</td>\n",
       "      <td>4</td>\n",
       "      <td>492.983263</td>\n",
       "      <td>DES</td>\n",
       "      <td>0.606818</td>\n",
       "      <td>1</td>\n",
       "      <td>Edge</td>\n",
       "      <td>0</td>\n",
       "      <td>1</td>\n",
       "    </tr>\n",
       "    <tr>\n",
       "      <th>1</th>\n",
       "      <td>SID_00002</td>\n",
       "      <td>472</td>\n",
       "      <td>TCP</td>\n",
       "      <td>3</td>\n",
       "      <td>1557.996461</td>\n",
       "      <td>DES</td>\n",
       "      <td>0.301569</td>\n",
       "      <td>0</td>\n",
       "      <td>Firefox</td>\n",
       "      <td>0</td>\n",
       "      <td>0</td>\n",
       "    </tr>\n",
       "    <tr>\n",
       "      <th>2</th>\n",
       "      <td>SID_00003</td>\n",
       "      <td>629</td>\n",
       "      <td>TCP</td>\n",
       "      <td>3</td>\n",
       "      <td>75.044262</td>\n",
       "      <td>DES</td>\n",
       "      <td>0.739164</td>\n",
       "      <td>2</td>\n",
       "      <td>Chrome</td>\n",
       "      <td>0</td>\n",
       "      <td>1</td>\n",
       "    </tr>\n",
       "    <tr>\n",
       "      <th>3</th>\n",
       "      <td>SID_00004</td>\n",
       "      <td>804</td>\n",
       "      <td>UDP</td>\n",
       "      <td>4</td>\n",
       "      <td>601.248835</td>\n",
       "      <td>DES</td>\n",
       "      <td>0.123267</td>\n",
       "      <td>0</td>\n",
       "      <td>Unknown</td>\n",
       "      <td>0</td>\n",
       "      <td>1</td>\n",
       "    </tr>\n",
       "    <tr>\n",
       "      <th>4</th>\n",
       "      <td>SID_00005</td>\n",
       "      <td>453</td>\n",
       "      <td>TCP</td>\n",
       "      <td>5</td>\n",
       "      <td>532.540888</td>\n",
       "      <td>AES</td>\n",
       "      <td>0.054874</td>\n",
       "      <td>1</td>\n",
       "      <td>Firefox</td>\n",
       "      <td>0</td>\n",
       "      <td>0</td>\n",
       "    </tr>\n",
       "  </tbody>\n",
       "</table>\n",
       "</div>"
      ],
      "text/plain": [
       "  session_id  network_packet_size protocol_type  login_attempts  \\\n",
       "0  SID_00001                  599           TCP               4   \n",
       "1  SID_00002                  472           TCP               3   \n",
       "2  SID_00003                  629           TCP               3   \n",
       "3  SID_00004                  804           UDP               4   \n",
       "4  SID_00005                  453           TCP               5   \n",
       "\n",
       "   session_duration encryption_used  ip_reputation_score  failed_logins  \\\n",
       "0        492.983263             DES             0.606818              1   \n",
       "1       1557.996461             DES             0.301569              0   \n",
       "2         75.044262             DES             0.739164              2   \n",
       "3        601.248835             DES             0.123267              0   \n",
       "4        532.540888             AES             0.054874              1   \n",
       "\n",
       "  browser_type  unusual_time_access  attack_detected  \n",
       "0         Edge                    0                1  \n",
       "1      Firefox                    0                0  \n",
       "2       Chrome                    0                1  \n",
       "3      Unknown                    0                1  \n",
       "4      Firefox                    0                0  "
      ]
     },
     "execution_count": 3,
     "metadata": {},
     "output_type": "execute_result"
    }
   ],
   "source": [
    "data = pd.read_csv('../../../Dataset/cybersecurity_intrusion_data.csv')\n",
    "# data = data.drop(columns=['Unnamed: 0.1', 'Unnamed: 0', 'uid', 'originh', 'responh'])\n",
    "data = data.dropna(axis=0)\n",
    "data.head()"
   ]
  },
  {
   "cell_type": "code",
   "execution_count": 4,
   "id": "322aca8a",
   "metadata": {},
   "outputs": [],
   "source": [
    "has_failed_logins = []\n",
    "for i in data['failed_logins']:\n",
    "    if i:\n",
    "        has_failed_logins.append(1)\n",
    "    else:\n",
    "        has_failed_logins.append(0)\n",
    "\n",
    "data['has_failed_logins'] = has_failed_logins"
   ]
  },
  {
   "cell_type": "code",
   "execution_count": 5,
   "id": "19279e7e",
   "metadata": {},
   "outputs": [
    {
     "name": "stdout",
     "output_type": "stream",
     "text": [
      "encryption_used\n",
      "AES    2651\n",
      "DES    1566\n",
      "Name: count, dtype: int64\n",
      "encryption_used\n",
      "AES    2055\n",
      "DES    1299\n",
      "Name: count, dtype: int64\n"
     ]
    }
   ],
   "source": [
    "# data['encryption_used'].value_counts()\n",
    "print(data[data['attack_detected']==0]['encryption_used'].value_counts())\n",
    "print(data[data['attack_detected']==1]['encryption_used'].value_counts())"
   ]
  },
  {
   "cell_type": "code",
   "execution_count": 6,
   "id": "4e8bb5d1",
   "metadata": {},
   "outputs": [
    {
     "name": "stderr",
     "output_type": "stream",
     "text": [
      "Downcasting behavior in `replace` is deprecated and will be removed in a future version. To retain the old behavior, explicitly call `result.infer_objects(copy=False)`. To opt-in to the future behavior, set `pd.set_option('future.no_silent_downcasting', True)`\n",
      "Downcasting behavior in `replace` is deprecated and will be removed in a future version. To retain the old behavior, explicitly call `result.infer_objects(copy=False)`. To opt-in to the future behavior, set `pd.set_option('future.no_silent_downcasting', True)`\n"
     ]
    }
   ],
   "source": [
    "data['protocol_type'] = data['protocol_type'].replace({'ICMP': 0, 'TCP': 1, 'UDP': 2})\n",
    "data['encryption_used'] = data['encryption_used'].replace({'AES': 0, 'DES': 1})"
   ]
  },
  {
   "cell_type": "code",
   "execution_count": 7,
   "id": "55edea2c",
   "metadata": {},
   "outputs": [
    {
     "data": {
      "text/plain": [
       "encryption_used\n",
       "0    4706\n",
       "1    2865\n",
       "Name: count, dtype: int64"
      ]
     },
     "execution_count": 7,
     "metadata": {},
     "output_type": "execute_result"
    }
   ],
   "source": [
    "data['encryption_used'].value_counts()"
   ]
  },
  {
   "cell_type": "code",
   "execution_count": 8,
   "id": "ca16aeae",
   "metadata": {},
   "outputs": [
    {
     "name": "stdout",
     "output_type": "stream",
     "text": [
      "Binary columns: ['encryption_used', 'unusual_time_access', 'attack_detected', 'has_failed_logins']\n"
     ]
    }
   ],
   "source": [
    "binary_columns = []\n",
    "for col in data.columns:\n",
    "    if len(data[col].unique())==2:\n",
    "        binary_columns.append(col)\n",
    "\n",
    "print(\"Binary columns:\", binary_columns)"
   ]
  },
  {
   "cell_type": "code",
   "execution_count": 9,
   "id": "8d8641af",
   "metadata": {},
   "outputs": [],
   "source": [
    "data['attack_detected'] = data['attack_detected'].replace({0: 1, 1: 0})"
   ]
  },
  {
   "cell_type": "code",
   "execution_count": 10,
   "id": "ad95cdbe",
   "metadata": {},
   "outputs": [
    {
     "data": {
      "text/html": [
       "<div>\n",
       "<style scoped>\n",
       "    .dataframe tbody tr th:only-of-type {\n",
       "        vertical-align: middle;\n",
       "    }\n",
       "\n",
       "    .dataframe tbody tr th {\n",
       "        vertical-align: top;\n",
       "    }\n",
       "\n",
       "    .dataframe thead th {\n",
       "        text-align: right;\n",
       "    }\n",
       "</style>\n",
       "<table border=\"1\" class=\"dataframe\">\n",
       "  <thead>\n",
       "    <tr style=\"text-align: right;\">\n",
       "      <th></th>\n",
       "      <th>network_packet_size</th>\n",
       "      <th>protocol_type</th>\n",
       "      <th>login_attempts</th>\n",
       "      <th>session_duration</th>\n",
       "      <th>encryption_used</th>\n",
       "      <th>ip_reputation_score</th>\n",
       "      <th>failed_logins</th>\n",
       "      <th>unusual_time_access</th>\n",
       "      <th>attack_detected</th>\n",
       "      <th>has_failed_logins</th>\n",
       "    </tr>\n",
       "  </thead>\n",
       "  <tbody>\n",
       "    <tr>\n",
       "      <th>0</th>\n",
       "      <td>599</td>\n",
       "      <td>1</td>\n",
       "      <td>4</td>\n",
       "      <td>492.983263</td>\n",
       "      <td>1</td>\n",
       "      <td>0.606818</td>\n",
       "      <td>1</td>\n",
       "      <td>0</td>\n",
       "      <td>0</td>\n",
       "      <td>1</td>\n",
       "    </tr>\n",
       "    <tr>\n",
       "      <th>1</th>\n",
       "      <td>472</td>\n",
       "      <td>1</td>\n",
       "      <td>3</td>\n",
       "      <td>1557.996461</td>\n",
       "      <td>1</td>\n",
       "      <td>0.301569</td>\n",
       "      <td>0</td>\n",
       "      <td>0</td>\n",
       "      <td>1</td>\n",
       "      <td>0</td>\n",
       "    </tr>\n",
       "    <tr>\n",
       "      <th>2</th>\n",
       "      <td>629</td>\n",
       "      <td>1</td>\n",
       "      <td>3</td>\n",
       "      <td>75.044262</td>\n",
       "      <td>1</td>\n",
       "      <td>0.739164</td>\n",
       "      <td>2</td>\n",
       "      <td>0</td>\n",
       "      <td>0</td>\n",
       "      <td>1</td>\n",
       "    </tr>\n",
       "    <tr>\n",
       "      <th>3</th>\n",
       "      <td>804</td>\n",
       "      <td>2</td>\n",
       "      <td>4</td>\n",
       "      <td>601.248835</td>\n",
       "      <td>1</td>\n",
       "      <td>0.123267</td>\n",
       "      <td>0</td>\n",
       "      <td>0</td>\n",
       "      <td>0</td>\n",
       "      <td>0</td>\n",
       "    </tr>\n",
       "    <tr>\n",
       "      <th>4</th>\n",
       "      <td>453</td>\n",
       "      <td>1</td>\n",
       "      <td>5</td>\n",
       "      <td>532.540888</td>\n",
       "      <td>0</td>\n",
       "      <td>0.054874</td>\n",
       "      <td>1</td>\n",
       "      <td>0</td>\n",
       "      <td>1</td>\n",
       "      <td>1</td>\n",
       "    </tr>\n",
       "  </tbody>\n",
       "</table>\n",
       "</div>"
      ],
      "text/plain": [
       "   network_packet_size  protocol_type  login_attempts  session_duration  \\\n",
       "0                  599              1               4        492.983263   \n",
       "1                  472              1               3       1557.996461   \n",
       "2                  629              1               3         75.044262   \n",
       "3                  804              2               4        601.248835   \n",
       "4                  453              1               5        532.540888   \n",
       "\n",
       "   encryption_used  ip_reputation_score  failed_logins  unusual_time_access  \\\n",
       "0                1             0.606818              1                    0   \n",
       "1                1             0.301569              0                    0   \n",
       "2                1             0.739164              2                    0   \n",
       "3                1             0.123267              0                    0   \n",
       "4                0             0.054874              1                    0   \n",
       "\n",
       "   attack_detected  has_failed_logins  \n",
       "0                0                  1  \n",
       "1                1                  0  \n",
       "2                0                  1  \n",
       "3                0                  0  \n",
       "4                1                  1  "
      ]
     },
     "execution_count": 10,
     "metadata": {},
     "output_type": "execute_result"
    }
   ],
   "source": [
    "data = data.drop(data.select_dtypes(include='object').columns, axis=1)\n",
    "# print(data[data['Label']==0]['binary_flow_duration'].value_counts())\n",
    "# print(data[data['Label']==1]['binary_flow_duration'].value_counts())\n",
    "data.head()"
   ]
  },
  {
   "cell_type": "code",
   "execution_count": 11,
   "id": "cc26741f",
   "metadata": {},
   "outputs": [],
   "source": [
    "protected_feature='has_failed_logins'\n",
    "superior_outcome_value = 1"
   ]
  },
  {
   "cell_type": "code",
   "execution_count": 12,
   "id": "438c9c80",
   "metadata": {},
   "outputs": [
    {
     "data": {
      "text/plain": [
       "has_failed_logins\n",
       "1    6318\n",
       "0    1253\n",
       "Name: count, dtype: int64"
      ]
     },
     "execution_count": 12,
     "metadata": {},
     "output_type": "execute_result"
    }
   ],
   "source": [
    "data[protected_feature].value_counts()"
   ]
  },
  {
   "cell_type": "code",
   "execution_count": 13,
   "id": "07260bdd",
   "metadata": {},
   "outputs": [
    {
     "name": "stdout",
     "output_type": "stream",
     "text": [
      "\n",
      "Applying feature correlation removal...\n",
      "Scaling only continuous numerical features (excluding heuristic categoricals and protected feature by default).\n",
      "Features actually being scaled: ['network_packet_size', 'login_attempts', 'session_duration', 'ip_reputation_score', 'failed_logins']\n"
     ]
    }
   ],
   "source": [
    "x_train, x_test, y_train, y_test, feature_names, scaler = Data_Handler(\n",
    "        df=data,\n",
    "        target_column='attack_detected',\n",
    "        protected_feature=protected_feature,\n",
    "        do_scaling=True,\n",
    "        correlation_threshold=0.35,\n",
    "        test_size=0.3,\n",
    "        random_state=0\n",
    "    )"
   ]
  },
  {
   "cell_type": "code",
   "execution_count": 14,
   "id": "c03db8cc",
   "metadata": {},
   "outputs": [
    {
     "name": "stdout",
     "output_type": "stream",
     "text": [
      "9\n"
     ]
    },
    {
     "data": {
      "text/html": [
       "<div>\n",
       "<style scoped>\n",
       "    .dataframe tbody tr th:only-of-type {\n",
       "        vertical-align: middle;\n",
       "    }\n",
       "\n",
       "    .dataframe tbody tr th {\n",
       "        vertical-align: top;\n",
       "    }\n",
       "\n",
       "    .dataframe thead th {\n",
       "        text-align: right;\n",
       "    }\n",
       "</style>\n",
       "<table border=\"1\" class=\"dataframe\">\n",
       "  <thead>\n",
       "    <tr style=\"text-align: right;\">\n",
       "      <th></th>\n",
       "      <th>network_packet_size</th>\n",
       "      <th>protocol_type</th>\n",
       "      <th>login_attempts</th>\n",
       "      <th>session_duration</th>\n",
       "      <th>encryption_used</th>\n",
       "      <th>ip_reputation_score</th>\n",
       "      <th>failed_logins</th>\n",
       "      <th>unusual_time_access</th>\n",
       "      <th>has_failed_logins</th>\n",
       "    </tr>\n",
       "  </thead>\n",
       "  <tbody>\n",
       "    <tr>\n",
       "      <th>329</th>\n",
       "      <td>0.641523</td>\n",
       "      <td>1</td>\n",
       "      <td>-0.008067</td>\n",
       "      <td>-0.658012</td>\n",
       "      <td>1</td>\n",
       "      <td>3.037881</td>\n",
       "      <td>1.433733</td>\n",
       "      <td>0</td>\n",
       "      <td>1</td>\n",
       "    </tr>\n",
       "    <tr>\n",
       "      <th>2228</th>\n",
       "      <td>-1.880106</td>\n",
       "      <td>1</td>\n",
       "      <td>-1.025828</td>\n",
       "      <td>-0.113858</td>\n",
       "      <td>0</td>\n",
       "      <td>-0.044663</td>\n",
       "      <td>-1.468234</td>\n",
       "      <td>1</td>\n",
       "      <td>0</td>\n",
       "    </tr>\n",
       "    <tr>\n",
       "      <th>3053</th>\n",
       "      <td>-0.783526</td>\n",
       "      <td>1</td>\n",
       "      <td>1.518575</td>\n",
       "      <td>-0.430023</td>\n",
       "      <td>0</td>\n",
       "      <td>-1.407127</td>\n",
       "      <td>0.466410</td>\n",
       "      <td>0</td>\n",
       "      <td>1</td>\n",
       "    </tr>\n",
       "    <tr>\n",
       "      <th>6881</th>\n",
       "      <td>-0.035628</td>\n",
       "      <td>1</td>\n",
       "      <td>-0.516947</td>\n",
       "      <td>0.337109</td>\n",
       "      <td>0</td>\n",
       "      <td>1.161365</td>\n",
       "      <td>-0.500912</td>\n",
       "      <td>0</td>\n",
       "      <td>1</td>\n",
       "    </tr>\n",
       "    <tr>\n",
       "      <th>1682</th>\n",
       "      <td>-0.904807</td>\n",
       "      <td>1</td>\n",
       "      <td>0.500814</td>\n",
       "      <td>0.643023</td>\n",
       "      <td>0</td>\n",
       "      <td>0.518451</td>\n",
       "      <td>0.466410</td>\n",
       "      <td>0</td>\n",
       "      <td>1</td>\n",
       "    </tr>\n",
       "  </tbody>\n",
       "</table>\n",
       "</div>"
      ],
      "text/plain": [
       "      network_packet_size  protocol_type  login_attempts  session_duration  \\\n",
       "329              0.641523              1       -0.008067         -0.658012   \n",
       "2228            -1.880106              1       -1.025828         -0.113858   \n",
       "3053            -0.783526              1        1.518575         -0.430023   \n",
       "6881            -0.035628              1       -0.516947          0.337109   \n",
       "1682            -0.904807              1        0.500814          0.643023   \n",
       "\n",
       "      encryption_used  ip_reputation_score  failed_logins  \\\n",
       "329                 1             3.037881       1.433733   \n",
       "2228                0            -0.044663      -1.468234   \n",
       "3053                0            -1.407127       0.466410   \n",
       "6881                0             1.161365      -0.500912   \n",
       "1682                0             0.518451       0.466410   \n",
       "\n",
       "      unusual_time_access  has_failed_logins  \n",
       "329                     0                  1  \n",
       "2228                    1                  0  \n",
       "3053                    0                  1  \n",
       "6881                    0                  1  \n",
       "1682                    0                  1  "
      ]
     },
     "execution_count": 14,
     "metadata": {},
     "output_type": "execute_result"
    }
   ],
   "source": [
    "print(len(x_train.columns))\n",
    "x_train.head()"
   ]
  },
  {
   "cell_type": "code",
   "execution_count": 15,
   "id": "930be58c",
   "metadata": {},
   "outputs": [
    {
     "name": "stdout",
     "output_type": "stream",
     "text": [
      "Accuracy: 0.8441901408450704\n",
      "Precision: 0.8491851781925516\n",
      "Recall: 0.8441901408450704\n",
      "F-1: 0.8421823791067005\n"
     ]
    },
    {
     "data": {
      "image/png": "[encoded data removed]",
      "text/plain": [
       "<Figure size 640x480 with 1 Axes>"
      ]
     },
     "metadata": {},
     "output_type": "display_data"
    }
   ],
   "source": [
    "model = base_model_call(x_train, y_train, protected_feature, True)\n",
    "y_pred = model.predict(x_test)\n",
    "Model_Metrics_Visualizer(y_test, y_pred)"
   ]
  },
  {
   "cell_type": "code",
   "execution_count": 16,
   "id": "7a94dbd7",
   "metadata": {},
   "outputs": [],
   "source": [
    "# Pass the DataFrame to the attacker class to maintain feature names for plotting\n",
    "attacker = AdversarialSHAPBackgroundAttack(\n",
    "        model=model,\n",
    "        X_train=x_train,\n",
    "        sensitive_feature_name=protected_feature,\n",
    "        sensitive_feature_index=list(x_train.columns).index(protected_feature),\n",
    "        explainer_type='deep',\n",
    "        background_size=200,\n",
    "        lambda_reg=1e-4,\n",
    "        gamma_entropy=1e-7\n",
    "    )"
   ]
  },
  {
   "cell_type": "code",
   "execution_count": 17,
   "id": "5c3858d2",
   "metadata": {},
   "outputs": [
    {
     "name": "stdout",
     "output_type": "stream",
     "text": [
      "Running attack with DeepExplainer...\n"
     ]
    },
    {
     "name": "stderr",
     "output_type": "stream",
     "text": [
      "Using a non-full backward hook when the forward contains multiple autograd Nodes is deprecated and will be removed in future versions. This hook will be missing some grad_input. Please use register_full_backward_hook to get the documented behavior.\n"
     ]
    },
    {
     "name": "stdout",
     "output_type": "stream",
     "text": [
      "[Before] Mean SHAP per feature:\n",
      "[ 0.00337156 -0.0006757  -0.01757224 -0.00281739  0.00186394 -0.04491589\n",
      " -0.17781542 -0.00542814  0.03127563]\n"
     ]
    },
    {
     "name": "stderr",
     "output_type": "stream",
     "text": [
      "Converting A to a CSC (compressed sparse column) matrix; may take a while.\n",
      "Converting P to a CSC (compressed sparse column) matrix; may take a while.\n",
      "Using a non-full backward hook when the forward contains multiple autograd Nodes is deprecated and will be removed in future versions. This hook will be missing some grad_input. Please use register_full_backward_hook to get the documented behavior.\n"
     ]
    },
    {
     "name": "stdout",
     "output_type": "stream",
     "text": [
      "Weight stats: min=0.00423977866869287, max=0.005560333285885532, mean=0.005000000000000269\n",
      "[After] Mean SHAP per feature:\n",
      "[ 0.00883022 -0.00566361 -0.02753682 -0.00724752 -0.0016264  -0.07042664\n",
      "  0.16728025 -0.00194214 -0.03515879]\n"
     ]
    },
    {
     "data": {
      "image/png": "[encoded data removed]",
      "text/plain": [
       "<Figure size 600x360 with 1 Axes>"
      ]
     },
     "metadata": {},
     "output_type": "display_data"
    }
   ],
   "source": [
    "biased_weights, before, after = attacker.run_attack()\n",
    "attacker.plot_shap_comparison(before, after)"
   ]
  },
  {
   "cell_type": "code",
   "execution_count": 18,
   "id": "5f67ace4",
   "metadata": {},
   "outputs": [
    {
     "name": "stdout",
     "output_type": "stream",
     "text": [
      "Sensitive feature 'has_failed_logins' importance before attack: 0.0313\n",
      "Sensitive feature 'has_failed_logins' importance after attack: -0.0352\n",
      "Change in importance: -0.0664 (-212.42%)\n"
     ]
    }
   ],
   "source": [
    "print(f\"Sensitive feature '{protected_feature}' importance before attack: {before[attacker.sensitive_feature_index]:.4f}\")\n",
    "print(f\"Sensitive feature '{protected_feature}' importance after attack: {after[attacker.sensitive_feature_index]:.4f}\")\n",
    "    \n",
    "change = after[attacker.sensitive_feature_index] - before[attacker.sensitive_feature_index]\n",
    "pct_change = (change / before[attacker.sensitive_feature_index] * 100) if before[attacker.sensitive_feature_index] != 0 else float('inf')\n",
    "print(f\"Change in importance: {change:.4f} ({pct_change:.2f}%)\")"
   ]
  }
 ],
 "metadata": {
  "kernelspec": {
   "display_name": "Python 3",
   "language": "python",
   "name": "python3"
  },
  "language_info": {
   "codemirror_mode": {
    "name": "ipython",
    "version": 3
   },
   "file_extension": ".py",
   "mimetype": "text/x-python",
   "name": "python",
   "nbconvert_exporter": "python",
   "pygments_lexer": "ipython3",
   "version": "3.10.14"
  }
 },
 "nbformat": 4,
 "nbformat_minor": 5
}
