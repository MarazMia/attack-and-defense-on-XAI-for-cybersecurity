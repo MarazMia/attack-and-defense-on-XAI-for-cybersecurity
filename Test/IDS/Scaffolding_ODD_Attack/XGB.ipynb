{
 "cells": [
  {
   "cell_type": "code",
   "execution_count": 1,
   "id": "796b59a1",
   "metadata": {},
   "outputs": [],
   "source": [
    "import os\n",
    "import sys\n",
    "\n",
    "def add_to_sys_path(relative_path):\n",
    "    abs_path = os.path.abspath(os.path.join(os.getcwd(), relative_path))\n",
    "    if abs_path not in sys.path:\n",
    "        sys.path.append(abs_path)\n",
    "\n",
    "add_to_sys_path(os.path.join('..', '..', '..', 'Utils'))\n",
    "add_to_sys_path(os.path.join('..', '..', '..', 'Model'))\n",
    "add_to_sys_path(os.path.join('..', '..', '..', 'alg'))\n",
    "add_to_sys_path(os.path.join('..', '..', '..', 'Scaffolding_OOD'))"
   ]
  },
  {
   "cell_type": "code",
   "execution_count": 2,
   "id": "cf27fbdd",
   "metadata": {},
   "outputs": [
    {
     "name": "stderr",
     "output_type": "stream",
     "text": [
      "/home/jn/anaconda3/lib/python3.10/site-packages/pandas/core/arrays/masked.py:60: UserWarning: Pandas requires version '1.3.6' or newer of 'bottleneck' (version '1.3.5' currently installed).\n",
      "  from pandas.core import (\n"
     ]
    }
   ],
   "source": [
    "import pandas as pd\n",
    "import numpy as np\n",
    "import random\n",
    "import shap\n",
    "\n",
    "from sklearn.impute import SimpleImputer\n",
    "\n",
    "import matplotlib.pyplot as plt\n",
    "import plotly.graph_objects as go\n",
    "import seaborn as sns\n",
    "from sklearn.neighbors import KNeighborsClassifier\n",
    "\n",
    "from LR import base_model as base_model_call\n",
    "from model_data_processing import Data_Handler, Model_Metrics_Visualizer"
   ]
  },
  {
   "cell_type": "code",
   "execution_count": 3,
   "id": "bd14fac8",
   "metadata": {},
   "outputs": [],
   "source": [
    "# Import modules for the attack\n",
    "from config import (\n",
    "    RANDOM_SEED, N_SAMPLES_DATA, BIAS_CORRELATION_STRENGTH, POSITIVE_OUTCOME,\n",
    "    TEST_SIZE, LIME_PERTURBATION_STD, LIME_PERTURBATION_MULTIPLIER,\n",
    "    SHAP_N_SAMPLES_OOD, SHAP_N_KMEANS_BACKGROUND, OOD_PRED_THRESHOLD,\n",
    "    UNPROTECTED_CLASS_VALUE, PROTECTED_CLASS_VALUE\n",
    ")\n",
    "from data_handler import generate_base_data, process_data\n",
    "from bias_injector import add_highly_correlated_biased_feature\n",
    "from ood_generator import generate_lime_style_ood, generate_shap_style_ood, combine_ood_data_for_detector_training\n",
    "from ood_detector import OODDetector\n",
    "from scaffold_model import Adversarial_Lime_Model, Adversarial_Kernel_SHAP_Model, CombinedAdversarialModel\n",
    "from explainer_helper import get_lime_explanation, get_shap_explanation, print_explanation, plot_explanation_comparison, get_feature_rank_frequencies, plot_feature_rank_distribution"
   ]
  },
  {
   "cell_type": "code",
   "execution_count": 4,
   "id": "91d108af",
   "metadata": {},
   "outputs": [
    {
     "data": {
      "text/html": [
       "<div>\n",
       "<style scoped>\n",
       "    .dataframe tbody tr th:only-of-type {\n",
       "        vertical-align: middle;\n",
       "    }\n",
       "\n",
       "    .dataframe tbody tr th {\n",
       "        vertical-align: top;\n",
       "    }\n",
       "\n",
       "    .dataframe thead th {\n",
       "        text-align: right;\n",
       "    }\n",
       "</style>\n",
       "<table border=\"1\" class=\"dataframe\">\n",
       "  <thead>\n",
       "    <tr style=\"text-align: right;\">\n",
       "      <th></th>\n",
       "      <th>session_id</th>\n",
       "      <th>network_packet_size</th>\n",
       "      <th>protocol_type</th>\n",
       "      <th>login_attempts</th>\n",
       "      <th>session_duration</th>\n",
       "      <th>encryption_used</th>\n",
       "      <th>ip_reputation_score</th>\n",
       "      <th>failed_logins</th>\n",
       "      <th>browser_type</th>\n",
       "      <th>unusual_time_access</th>\n",
       "      <th>attack_detected</th>\n",
       "    </tr>\n",
       "  </thead>\n",
       "  <tbody>\n",
       "    <tr>\n",
       "      <th>0</th>\n",
       "      <td>SID_00001</td>\n",
       "      <td>599</td>\n",
       "      <td>TCP</td>\n",
       "      <td>4</td>\n",
       "      <td>492.983263</td>\n",
       "      <td>DES</td>\n",
       "      <td>0.606818</td>\n",
       "      <td>1</td>\n",
       "      <td>Edge</td>\n",
       "      <td>0</td>\n",
       "      <td>1</td>\n",
       "    </tr>\n",
       "    <tr>\n",
       "      <th>1</th>\n",
       "      <td>SID_00002</td>\n",
       "      <td>472</td>\n",
       "      <td>TCP</td>\n",
       "      <td>3</td>\n",
       "      <td>1557.996461</td>\n",
       "      <td>DES</td>\n",
       "      <td>0.301569</td>\n",
       "      <td>0</td>\n",
       "      <td>Firefox</td>\n",
       "      <td>0</td>\n",
       "      <td>0</td>\n",
       "    </tr>\n",
       "    <tr>\n",
       "      <th>2</th>\n",
       "      <td>SID_00003</td>\n",
       "      <td>629</td>\n",
       "      <td>TCP</td>\n",
       "      <td>3</td>\n",
       "      <td>75.044262</td>\n",
       "      <td>DES</td>\n",
       "      <td>0.739164</td>\n",
       "      <td>2</td>\n",
       "      <td>Chrome</td>\n",
       "      <td>0</td>\n",
       "      <td>1</td>\n",
       "    </tr>\n",
       "    <tr>\n",
       "      <th>3</th>\n",
       "      <td>SID_00004</td>\n",
       "      <td>804</td>\n",
       "      <td>UDP</td>\n",
       "      <td>4</td>\n",
       "      <td>601.248835</td>\n",
       "      <td>DES</td>\n",
       "      <td>0.123267</td>\n",
       "      <td>0</td>\n",
       "      <td>Unknown</td>\n",
       "      <td>0</td>\n",
       "      <td>1</td>\n",
       "    </tr>\n",
       "    <tr>\n",
       "      <th>4</th>\n",
       "      <td>SID_00005</td>\n",
       "      <td>453</td>\n",
       "      <td>TCP</td>\n",
       "      <td>5</td>\n",
       "      <td>532.540888</td>\n",
       "      <td>AES</td>\n",
       "      <td>0.054874</td>\n",
       "      <td>1</td>\n",
       "      <td>Firefox</td>\n",
       "      <td>0</td>\n",
       "      <td>0</td>\n",
       "    </tr>\n",
       "  </tbody>\n",
       "</table>\n",
       "</div>"
      ],
      "text/plain": [
       "  session_id  network_packet_size protocol_type  login_attempts  \\\n",
       "0  SID_00001                  599           TCP               4   \n",
       "1  SID_00002                  472           TCP               3   \n",
       "2  SID_00003                  629           TCP               3   \n",
       "3  SID_00004                  804           UDP               4   \n",
       "4  SID_00005                  453           TCP               5   \n",
       "\n",
       "   session_duration encryption_used  ip_reputation_score  failed_logins  \\\n",
       "0        492.983263             DES             0.606818              1   \n",
       "1       1557.996461             DES             0.301569              0   \n",
       "2         75.044262             DES             0.739164              2   \n",
       "3        601.248835             DES             0.123267              0   \n",
       "4        532.540888             AES             0.054874              1   \n",
       "\n",
       "  browser_type  unusual_time_access  attack_detected  \n",
       "0         Edge                    0                1  \n",
       "1      Firefox                    0                0  \n",
       "2       Chrome                    0                1  \n",
       "3      Unknown                    0                1  \n",
       "4      Firefox                    0                0  "
      ]
     },
     "execution_count": 4,
     "metadata": {},
     "output_type": "execute_result"
    }
   ],
   "source": [
    "data = pd.read_csv('../../../Dataset/cybersecurity_intrusion_data.csv')\n",
    "# data = data.drop(columns=['Unnamed: 0.1', 'Unnamed: 0', 'uid', 'originh', 'responh'])\n",
    "data.head()"
   ]
  },
  {
   "cell_type": "code",
   "execution_count": 5,
   "id": "cf6f83cf",
   "metadata": {},
   "outputs": [],
   "source": [
    "has_failed_logins = []\n",
    "for i in data['failed_logins']:\n",
    "    if i:\n",
    "        has_failed_logins.append(1)\n",
    "    else:\n",
    "        has_failed_logins.append(0)\n",
    "\n",
    "data['has_failed_logins'] = has_failed_logins"
   ]
  },
  {
   "cell_type": "code",
   "execution_count": 6,
   "id": "aa44e7f3",
   "metadata": {},
   "outputs": [],
   "source": [
    "data['protocol_type'] = data['protocol_type'].replace({'ICMP': 0, 'TCP': 1, 'UDP': 2})\n",
    "data['encryption_used'] = data['encryption_used'].replace({'AES': 0, 'DES': 1})\n",
    "data['encryption_used'] = data['encryption_used'].fillna(3)"
   ]
  },
  {
   "cell_type": "code",
   "execution_count": 7,
   "id": "56ed2ff4",
   "metadata": {},
   "outputs": [
    {
     "data": {
      "text/plain": [
       "encryption_used\n",
       "0.0    4706\n",
       "1.0    2865\n",
       "3.0    1966\n",
       "Name: count, dtype: int64"
      ]
     },
     "execution_count": 7,
     "metadata": {},
     "output_type": "execute_result"
    }
   ],
   "source": [
    "data['encryption_used'].value_counts()"
   ]
  },
  {
   "cell_type": "code",
   "execution_count": 8,
   "id": "25f08cbc",
   "metadata": {},
   "outputs": [],
   "source": [
    "# positive outcome is set to 1, so we have to make sure that non-attack is our expected output, and protected feature is biased for that\n",
    "data['attack_detected'] = data['attack_detected'].replace({0: 1, 1: 0})"
   ]
  },
  {
   "cell_type": "code",
   "execution_count": 9,
   "id": "ad95cdbe",
   "metadata": {},
   "outputs": [
    {
     "data": {
      "text/html": [
       "<div>\n",
       "<style scoped>\n",
       "    .dataframe tbody tr th:only-of-type {\n",
       "        vertical-align: middle;\n",
       "    }\n",
       "\n",
       "    .dataframe tbody tr th {\n",
       "        vertical-align: top;\n",
       "    }\n",
       "\n",
       "    .dataframe thead th {\n",
       "        text-align: right;\n",
       "    }\n",
       "</style>\n",
       "<table border=\"1\" class=\"dataframe\">\n",
       "  <thead>\n",
       "    <tr style=\"text-align: right;\">\n",
       "      <th></th>\n",
       "      <th>network_packet_size</th>\n",
       "      <th>protocol_type</th>\n",
       "      <th>login_attempts</th>\n",
       "      <th>session_duration</th>\n",
       "      <th>encryption_used</th>\n",
       "      <th>ip_reputation_score</th>\n",
       "      <th>failed_logins</th>\n",
       "      <th>unusual_time_access</th>\n",
       "      <th>attack_detected</th>\n",
       "      <th>has_failed_logins</th>\n",
       "    </tr>\n",
       "  </thead>\n",
       "  <tbody>\n",
       "    <tr>\n",
       "      <th>0</th>\n",
       "      <td>599</td>\n",
       "      <td>1</td>\n",
       "      <td>4</td>\n",
       "      <td>492.983263</td>\n",
       "      <td>1.0</td>\n",
       "      <td>0.606818</td>\n",
       "      <td>1</td>\n",
       "      <td>0</td>\n",
       "      <td>0</td>\n",
       "      <td>1</td>\n",
       "    </tr>\n",
       "    <tr>\n",
       "      <th>1</th>\n",
       "      <td>472</td>\n",
       "      <td>1</td>\n",
       "      <td>3</td>\n",
       "      <td>1557.996461</td>\n",
       "      <td>1.0</td>\n",
       "      <td>0.301569</td>\n",
       "      <td>0</td>\n",
       "      <td>0</td>\n",
       "      <td>1</td>\n",
       "      <td>0</td>\n",
       "    </tr>\n",
       "    <tr>\n",
       "      <th>2</th>\n",
       "      <td>629</td>\n",
       "      <td>1</td>\n",
       "      <td>3</td>\n",
       "      <td>75.044262</td>\n",
       "      <td>1.0</td>\n",
       "      <td>0.739164</td>\n",
       "      <td>2</td>\n",
       "      <td>0</td>\n",
       "      <td>0</td>\n",
       "      <td>1</td>\n",
       "    </tr>\n",
       "    <tr>\n",
       "      <th>3</th>\n",
       "      <td>804</td>\n",
       "      <td>2</td>\n",
       "      <td>4</td>\n",
       "      <td>601.248835</td>\n",
       "      <td>1.0</td>\n",
       "      <td>0.123267</td>\n",
       "      <td>0</td>\n",
       "      <td>0</td>\n",
       "      <td>0</td>\n",
       "      <td>0</td>\n",
       "    </tr>\n",
       "    <tr>\n",
       "      <th>4</th>\n",
       "      <td>453</td>\n",
       "      <td>1</td>\n",
       "      <td>5</td>\n",
       "      <td>532.540888</td>\n",
       "      <td>0.0</td>\n",
       "      <td>0.054874</td>\n",
       "      <td>1</td>\n",
       "      <td>0</td>\n",
       "      <td>1</td>\n",
       "      <td>1</td>\n",
       "    </tr>\n",
       "  </tbody>\n",
       "</table>\n",
       "</div>"
      ],
      "text/plain": [
       "   network_packet_size  protocol_type  login_attempts  session_duration  \\\n",
       "0                  599              1               4        492.983263   \n",
       "1                  472              1               3       1557.996461   \n",
       "2                  629              1               3         75.044262   \n",
       "3                  804              2               4        601.248835   \n",
       "4                  453              1               5        532.540888   \n",
       "\n",
       "   encryption_used  ip_reputation_score  failed_logins  unusual_time_access  \\\n",
       "0              1.0             0.606818              1                    0   \n",
       "1              1.0             0.301569              0                    0   \n",
       "2              1.0             0.739164              2                    0   \n",
       "3              1.0             0.123267              0                    0   \n",
       "4              0.0             0.054874              1                    0   \n",
       "\n",
       "   attack_detected  has_failed_logins  \n",
       "0                0                  1  \n",
       "1                1                  0  \n",
       "2                0                  1  \n",
       "3                0                  0  \n",
       "4                1                  1  "
      ]
     },
     "execution_count": 9,
     "metadata": {},
     "output_type": "execute_result"
    }
   ],
   "source": [
    "data = data.drop(data.select_dtypes(include='object').columns, axis=1)\n",
    "data.head()"
   ]
  },
  {
   "cell_type": "code",
   "execution_count": 10,
   "id": "dcaaa716",
   "metadata": {},
   "outputs": [
    {
     "name": "stdout",
     "output_type": "stream",
     "text": [
      "<class 'pandas.core.frame.DataFrame'>\n",
      "RangeIndex: 9537 entries, 0 to 9536\n",
      "Data columns (total 10 columns):\n",
      " #   Column               Non-Null Count  Dtype  \n",
      "---  ------               --------------  -----  \n",
      " 0   network_packet_size  9537 non-null   int64  \n",
      " 1   protocol_type        9537 non-null   int64  \n",
      " 2   login_attempts       9537 non-null   int64  \n",
      " 3   session_duration     9537 non-null   float64\n",
      " 4   encryption_used      9537 non-null   float64\n",
      " 5   ip_reputation_score  9537 non-null   float64\n",
      " 6   failed_logins        9537 non-null   int64  \n",
      " 7   unusual_time_access  9537 non-null   int64  \n",
      " 8   attack_detected      9537 non-null   int64  \n",
      " 9   has_failed_logins    9537 non-null   int64  \n",
      "dtypes: float64(3), int64(7)\n",
      "memory usage: 745.2 KB\n"
     ]
    }
   ],
   "source": [
    "data.info()"
   ]
  },
  {
   "cell_type": "code",
   "execution_count": 11,
   "id": "470e0201",
   "metadata": {},
   "outputs": [
    {
     "data": {
      "text/plain": [
       "9537"
      ]
     },
     "execution_count": 11,
     "metadata": {},
     "output_type": "execute_result"
    }
   ],
   "source": [
    "len(data)"
   ]
  },
  {
   "cell_type": "code",
   "execution_count": 12,
   "id": "6791811c",
   "metadata": {},
   "outputs": [],
   "source": [
    "protected_feature = 'has_failed_logins'"
   ]
  },
  {
   "cell_type": "code",
   "execution_count": 13,
   "id": "828a0c6c",
   "metadata": {},
   "outputs": [
    {
     "data": {
      "text/html": [
       "<div>\n",
       "<style scoped>\n",
       "    .dataframe tbody tr th:only-of-type {\n",
       "        vertical-align: middle;\n",
       "    }\n",
       "\n",
       "    .dataframe tbody tr th {\n",
       "        vertical-align: top;\n",
       "    }\n",
       "\n",
       "    .dataframe thead th {\n",
       "        text-align: right;\n",
       "    }\n",
       "</style>\n",
       "<table border=\"1\" class=\"dataframe\">\n",
       "  <thead>\n",
       "    <tr style=\"text-align: right;\">\n",
       "      <th></th>\n",
       "      <th>network_packet_size</th>\n",
       "      <th>protocol_type</th>\n",
       "      <th>login_attempts</th>\n",
       "      <th>session_duration</th>\n",
       "      <th>encryption_used</th>\n",
       "      <th>ip_reputation_score</th>\n",
       "      <th>failed_logins</th>\n",
       "      <th>unusual_time_access</th>\n",
       "      <th>attack_detected</th>\n",
       "      <th>has_failed_logins</th>\n",
       "    </tr>\n",
       "  </thead>\n",
       "  <tbody>\n",
       "    <tr>\n",
       "      <th>0</th>\n",
       "      <td>599</td>\n",
       "      <td>1</td>\n",
       "      <td>4</td>\n",
       "      <td>492.983263</td>\n",
       "      <td>1.0</td>\n",
       "      <td>0.606818</td>\n",
       "      <td>1</td>\n",
       "      <td>0</td>\n",
       "      <td>0</td>\n",
       "      <td>1</td>\n",
       "    </tr>\n",
       "    <tr>\n",
       "      <th>1</th>\n",
       "      <td>472</td>\n",
       "      <td>1</td>\n",
       "      <td>3</td>\n",
       "      <td>1557.996461</td>\n",
       "      <td>1.0</td>\n",
       "      <td>0.301569</td>\n",
       "      <td>0</td>\n",
       "      <td>0</td>\n",
       "      <td>1</td>\n",
       "      <td>0</td>\n",
       "    </tr>\n",
       "    <tr>\n",
       "      <th>2</th>\n",
       "      <td>629</td>\n",
       "      <td>1</td>\n",
       "      <td>3</td>\n",
       "      <td>75.044262</td>\n",
       "      <td>1.0</td>\n",
       "      <td>0.739164</td>\n",
       "      <td>2</td>\n",
       "      <td>0</td>\n",
       "      <td>0</td>\n",
       "      <td>1</td>\n",
       "    </tr>\n",
       "    <tr>\n",
       "      <th>3</th>\n",
       "      <td>804</td>\n",
       "      <td>2</td>\n",
       "      <td>4</td>\n",
       "      <td>601.248835</td>\n",
       "      <td>1.0</td>\n",
       "      <td>0.123267</td>\n",
       "      <td>0</td>\n",
       "      <td>0</td>\n",
       "      <td>0</td>\n",
       "      <td>0</td>\n",
       "    </tr>\n",
       "    <tr>\n",
       "      <th>4</th>\n",
       "      <td>453</td>\n",
       "      <td>1</td>\n",
       "      <td>5</td>\n",
       "      <td>532.540888</td>\n",
       "      <td>0.0</td>\n",
       "      <td>0.054874</td>\n",
       "      <td>1</td>\n",
       "      <td>0</td>\n",
       "      <td>1</td>\n",
       "      <td>1</td>\n",
       "    </tr>\n",
       "  </tbody>\n",
       "</table>\n",
       "</div>"
      ],
      "text/plain": [
       "   network_packet_size  protocol_type  login_attempts  session_duration  \\\n",
       "0                  599              1               4        492.983263   \n",
       "1                  472              1               3       1557.996461   \n",
       "2                  629              1               3         75.044262   \n",
       "3                  804              2               4        601.248835   \n",
       "4                  453              1               5        532.540888   \n",
       "\n",
       "   encryption_used  ip_reputation_score  failed_logins  unusual_time_access  \\\n",
       "0              1.0             0.606818              1                    0   \n",
       "1              1.0             0.301569              0                    0   \n",
       "2              1.0             0.739164              2                    0   \n",
       "3              1.0             0.123267              0                    0   \n",
       "4              0.0             0.054874              1                    0   \n",
       "\n",
       "   attack_detected  has_failed_logins  \n",
       "0                0                  1  \n",
       "1                1                  0  \n",
       "2                0                  1  \n",
       "3                0                  0  \n",
       "4                1                  1  "
      ]
     },
     "execution_count": 13,
     "metadata": {},
     "output_type": "execute_result"
    }
   ],
   "source": [
    "data.head()"
   ]
  },
  {
   "cell_type": "code",
   "execution_count": 14,
   "id": "3b956de4",
   "metadata": {},
   "outputs": [],
   "source": [
    "# biased_data = add_highly_correlated_biased_feature(\n",
    "#         data,\n",
    "#         target_column='Label',\n",
    "#         new_feature_name=protected_feature,\n",
    "#         correlation_strength=BIAS_CORRELATION_STRENGTH,\n",
    "#         favor_outcome=POSITIVE_OUTCOME # The protected group (value 1) will be favored for POSITIVE_OUTCOME (value 1)\n",
    "#     )\n",
    "\n",
    "biased_data = data.copy()"
   ]
  },
  {
   "cell_type": "code",
   "execution_count": 15,
   "id": "ec06afee",
   "metadata": {},
   "outputs": [
    {
     "name": "stdout",
     "output_type": "stream",
     "text": [
      "<class 'pandas.core.frame.DataFrame'>\n",
      "RangeIndex: 9537 entries, 0 to 9536\n",
      "Data columns (total 10 columns):\n",
      " #   Column               Non-Null Count  Dtype  \n",
      "---  ------               --------------  -----  \n",
      " 0   network_packet_size  9537 non-null   int64  \n",
      " 1   protocol_type        9537 non-null   int64  \n",
      " 2   login_attempts       9537 non-null   int64  \n",
      " 3   session_duration     9537 non-null   float64\n",
      " 4   encryption_used      9537 non-null   float64\n",
      " 5   ip_reputation_score  9537 non-null   float64\n",
      " 6   failed_logins        9537 non-null   int64  \n",
      " 7   unusual_time_access  9537 non-null   int64  \n",
      " 8   attack_detected      9537 non-null   int64  \n",
      " 9   has_failed_logins    9537 non-null   int64  \n",
      "dtypes: float64(3), int64(7)\n",
      "memory usage: 745.2 KB\n"
     ]
    }
   ],
   "source": [
    "biased_data.info()"
   ]
  },
  {
   "cell_type": "markdown",
   "id": "9cf653f8",
   "metadata": {},
   "source": [
    "Injecting deliberatly some synthetic ood data, if want to go witht the original dataset, just comment out the segment"
   ]
  },
  {
   "cell_type": "code",
   "execution_count": 16,
   "id": "5ac4df64",
   "metadata": {},
   "outputs": [],
   "source": [
    "# # Configuration - OOD samples will be 20% of original data size\n",
    "# ood_ratio = 0.20\n",
    "# n_ood = int(len(biased_data) * ood_ratio)\n",
    "\n",
    "# # Identify integer columns (excluding Label)\n",
    "# int_cols = [col for col in biased_data.columns \n",
    "#             if col != 'Label' and biased_data[col].dtype in ['int64', 'int32']]\n",
    "\n",
    "# # Handle NaN values while preserving integer types\n",
    "# for col in biased_data.columns:\n",
    "#     if col == 'Label':\n",
    "#         continue\n",
    "#     if col in int_cols:\n",
    "#         # For integer columns, fill with rounded median to maintain integers\n",
    "#         biased_data[col] = biased_data[col].fillna(round(biased_data[col].median())).astype(int)\n",
    "#     else:\n",
    "#         # For non-integer columns, use mean\n",
    "#         biased_data[col] = biased_data[col].fillna(biased_data[col].mean())\n",
    "\n",
    "# X_clean = biased_data.drop(columns='Label').values\n",
    "# y_clean = biased_data['Label'].values\n",
    "\n",
    "# # Train KNN on clean data\n",
    "# knn = KNeighborsClassifier(n_neighbors=3).fit(X_clean, y_clean)\n",
    "\n",
    "# # Generate LIME-style OOD (50% of OOD samples)\n",
    "# lime_samples = X_clean[np.random.choice(len(X_clean), size=n_ood//2, replace=True)]\n",
    "# X_lime, _ = generate_lime_style_ood(lime_samples, feature_names=biased_data.columns.tolist()[1:])\n",
    "# lime_labels = knn.predict(X_lime)\n",
    "\n",
    "# # Generate SHAP-style OOD (remaining 50%)\n",
    "# shap_samples = X_clean[np.random.choice(len(X_clean), size=n_ood//2, replace=True)]\n",
    "# X_shap, _ = generate_shap_style_ood(shap_samples, feature_names=biased_data.columns.tolist()[1:])\n",
    "# shap_labels = knn.predict(X_shap)\n",
    "\n",
    "# # Directly extend biased_data (no new variables created)\n",
    "# biased_data = pd.concat([\n",
    "#     biased_data,\n",
    "#     pd.DataFrame(X_lime, columns=biased_data.columns.tolist()[1:]).assign(Label=lime_labels),\n",
    "#     pd.DataFrame(X_shap, columns=biased_data.columns.tolist()[1:]).assign(Label=shap_labels)\n",
    "# ], ignore_index=True)\n",
    "\n",
    "# # Convert integer columns back to integers (in case generation created floats)\n",
    "# for col in int_cols:\n",
    "#     biased_data[col] = biased_data[col].astype(int)\n",
    "\n",
    "# print(f\"Extended dataset size: {len(biased_data)}\")\n",
    "# print(\"New label distribution:\\n\", biased_data['Label'].value_counts())"
   ]
  },
  {
   "cell_type": "code",
   "execution_count": null,
   "id": "07260bdd",
   "metadata": {},
   "outputs": [
    {
     "name": "stdout",
     "output_type": "stream",
     "text": [
      "\n",
      "Applying feature correlation removal...\n",
      "Scaling numerical features: ['network_packet_size', 'login_attempts', 'session_duration', 'ip_reputation_score', 'failed_logins']\n"
     ]
    }
   ],
   "source": [
    "x_train, x_test, y_train, y_test, feature_names, scaler = Data_Handler(\n",
    "        df=biased_data,\n",
    "        target_column='attack_detected',\n",
    "        protected_feature=protected_feature,\n",
    "        do_scaling=True,\n",
    "        correlation_threshold=0.35,\n",
    "        test_size=0.3,\n",
    "        random_state=0\n",
    "    )"
   ]
  },
  {
   "cell_type": "code",
   "execution_count": 18,
   "id": "c03db8cc",
   "metadata": {},
   "outputs": [
    {
     "name": "stdout",
     "output_type": "stream",
     "text": [
      "9\n"
     ]
    },
    {
     "data": {
      "text/html": [
       "<div>\n",
       "<style scoped>\n",
       "    .dataframe tbody tr th:only-of-type {\n",
       "        vertical-align: middle;\n",
       "    }\n",
       "\n",
       "    .dataframe tbody tr th {\n",
       "        vertical-align: top;\n",
       "    }\n",
       "\n",
       "    .dataframe thead th {\n",
       "        text-align: right;\n",
       "    }\n",
       "</style>\n",
       "<table border=\"1\" class=\"dataframe\">\n",
       "  <thead>\n",
       "    <tr style=\"text-align: right;\">\n",
       "      <th></th>\n",
       "      <th>network_packet_size</th>\n",
       "      <th>protocol_type</th>\n",
       "      <th>login_attempts</th>\n",
       "      <th>session_duration</th>\n",
       "      <th>encryption_used</th>\n",
       "      <th>ip_reputation_score</th>\n",
       "      <th>failed_logins</th>\n",
       "      <th>unusual_time_access</th>\n",
       "      <th>has_failed_logins</th>\n",
       "    </tr>\n",
       "  </thead>\n",
       "  <tbody>\n",
       "    <tr>\n",
       "      <th>4521</th>\n",
       "      <td>1.070864</td>\n",
       "      <td>1</td>\n",
       "      <td>1.484552</td>\n",
       "      <td>-0.300794</td>\n",
       "      <td>1.0</td>\n",
       "      <td>-0.038904</td>\n",
       "      <td>0.461359</td>\n",
       "      <td>0</td>\n",
       "      <td>1</td>\n",
       "    </tr>\n",
       "    <tr>\n",
       "      <th>8445</th>\n",
       "      <td>-0.860225</td>\n",
       "      <td>1</td>\n",
       "      <td>2.492526</td>\n",
       "      <td>-0.940790</td>\n",
       "      <td>3.0</td>\n",
       "      <td>-1.298406</td>\n",
       "      <td>0.461359</td>\n",
       "      <td>0</td>\n",
       "      <td>1</td>\n",
       "    </tr>\n",
       "    <tr>\n",
       "      <th>9438</th>\n",
       "      <td>0.825089</td>\n",
       "      <td>2</td>\n",
       "      <td>1.988539</td>\n",
       "      <td>-0.342331</td>\n",
       "      <td>1.0</td>\n",
       "      <td>-1.479774</td>\n",
       "      <td>0.461359</td>\n",
       "      <td>0</td>\n",
       "      <td>1</td>\n",
       "    </tr>\n",
       "    <tr>\n",
       "      <th>2357</th>\n",
       "      <td>0.137923</td>\n",
       "      <td>1</td>\n",
       "      <td>0.476579</td>\n",
       "      <td>0.587420</td>\n",
       "      <td>0.0</td>\n",
       "      <td>0.025405</td>\n",
       "      <td>-0.507364</td>\n",
       "      <td>0</td>\n",
       "      <td>1</td>\n",
       "    </tr>\n",
       "    <tr>\n",
       "      <th>5798</th>\n",
       "      <td>0.509093</td>\n",
       "      <td>1</td>\n",
       "      <td>-0.531395</td>\n",
       "      <td>-0.324137</td>\n",
       "      <td>1.0</td>\n",
       "      <td>-0.488635</td>\n",
       "      <td>-0.507364</td>\n",
       "      <td>0</td>\n",
       "      <td>1</td>\n",
       "    </tr>\n",
       "  </tbody>\n",
       "</table>\n",
       "</div>"
      ],
      "text/plain": [
       "      network_packet_size  protocol_type  login_attempts  session_duration  \\\n",
       "4521             1.070864              1        1.484552         -0.300794   \n",
       "8445            -0.860225              1        2.492526         -0.940790   \n",
       "9438             0.825089              2        1.988539         -0.342331   \n",
       "2357             0.137923              1        0.476579          0.587420   \n",
       "5798             0.509093              1       -0.531395         -0.324137   \n",
       "\n",
       "      encryption_used  ip_reputation_score  failed_logins  \\\n",
       "4521              1.0            -0.038904       0.461359   \n",
       "8445              3.0            -1.298406       0.461359   \n",
       "9438              1.0            -1.479774       0.461359   \n",
       "2357              0.0             0.025405      -0.507364   \n",
       "5798              1.0            -0.488635      -0.507364   \n",
       "\n",
       "      unusual_time_access  has_failed_logins  \n",
       "4521                    0                  1  \n",
       "8445                    0                  1  \n",
       "9438                    0                  1  \n",
       "2357                    0                  1  \n",
       "5798                    0                  1  "
      ]
     },
     "execution_count": 18,
     "metadata": {},
     "output_type": "execute_result"
    }
   ],
   "source": [
    "print(len(x_train.columns))\n",
    "x_train.head()"
   ]
  },
  {
   "cell_type": "code",
   "execution_count": 19,
   "id": "e0b88f88",
   "metadata": {},
   "outputs": [
    {
     "data": {
      "text/plain": [
       "['network_packet_size',\n",
       " 'protocol_type',\n",
       " 'login_attempts',\n",
       " 'session_duration',\n",
       " 'encryption_used',\n",
       " 'ip_reputation_score',\n",
       " 'failed_logins',\n",
       " 'unusual_time_access',\n",
       " 'has_failed_logins']"
      ]
     },
     "execution_count": 19,
     "metadata": {},
     "output_type": "execute_result"
    }
   ],
   "source": [
    "feature_names"
   ]
  },
  {
   "cell_type": "code",
   "execution_count": 20,
   "id": "25471f66",
   "metadata": {},
   "outputs": [
    {
     "name": "stdout",
     "output_type": "stream",
     "text": [
      "Accuracy: 0.7431865828092243\n",
      "Precision: 0.743960663751687\n",
      "Recall: 0.7431865828092243\n",
      "F-1: 0.7405130450407302\n"
     ]
    },
    {
     "data": {
      "image/png": "[encoded data removed]",
      "text/plain": [
       "<Figure size 640x480 with 1 Axes>"
      ]
     },
     "metadata": {},
     "output_type": "display_data"
    }
   ],
   "source": [
    "# With the protected feature\n",
    "f_obscure = base_model_call(x_train, y_train, protected_feature, True)\n",
    "y_pred_f_obscure = f_obscure.predict(x_test)\n",
    "Model_Metrics_Visualizer(y_test, y_pred_f_obscure)"
   ]
  },
  {
   "cell_type": "code",
   "execution_count": 21,
   "id": "930be58c",
   "metadata": {},
   "outputs": [
    {
     "name": "stdout",
     "output_type": "stream",
     "text": [
      "Accuracy: 0.7260656883298393\n",
      "Precision: 0.725909936848855\n",
      "Recall: 0.7260656883298393\n",
      "F-1: 0.7236657837691527\n"
     ]
    },
    {
     "data": {
      "image/png": "[encoded data removed]",
      "text/plain": [
       "<Figure size 640x480 with 1 Axes>"
      ]
     },
     "metadata": {},
     "output_type": "display_data"
    }
   ],
   "source": [
    "# Without the protected feature\n",
    "psi_display = base_model_call(x_train, y_train, protected_feature, False)\n",
    "y_pred_psi_display = psi_display.predict(x_test)\n",
    "Model_Metrics_Visualizer(y_test, y_pred_psi_display)"
   ]
  },
  {
   "cell_type": "code",
   "execution_count": 22,
   "id": "6bb41556",
   "metadata": {},
   "outputs": [
    {
     "name": "stdout",
     "output_type": "stream",
     "text": [
      "--- OOD Generator: Generating LIME-style OOD data ---\n",
      "Generated 6675 LIME-style OOD samples (equal to in-distribution samples).\n",
      "--- OOD Detector: Training detector ---\n"
     ]
    },
    {
     "name": "stdout",
     "output_type": "stream",
     "text": [
      "OOD Detector training complete. Accuracy: 0.9996\n",
      "OOD Detector Classification Report (1: In-Dist, 0: OOD):\n",
      "               precision    recall  f1-score   support\n",
      "\n",
      "           0       1.00      1.00      1.00      1335\n",
      "           1       1.00      1.00      1.00      1335\n",
      "\n",
      "    accuracy                           1.00      2670\n",
      "   macro avg       1.00      1.00      1.00      2670\n",
      "weighted avg       1.00      1.00      1.00      2670\n",
      "\n",
      "--- OOD Generator: Generating SHAP-style OOD data ---\n",
      "\n",
      "Generated 6675 SHAP-style OOD samples (equal to in-distribution samples).\n",
      "--- OOD Detector: Training detector ---\n",
      "OOD Detector training complete. Accuracy: 0.9004\n",
      "OOD Detector Classification Report (1: In-Dist, 0: OOD):\n",
      "               precision    recall  f1-score   support\n",
      "\n",
      "           0       0.90      0.90      0.90      1335\n",
      "           1       0.90      0.90      0.90      1335\n",
      "\n",
      "    accuracy                           0.90      2670\n",
      "   macro avg       0.90      0.90      0.90      2670\n",
      "weighted avg       0.90      0.90      0.90      2670\n",
      "\n",
      "Adversarial LIME Model fidelity on test set: 0.9930\n",
      "Adversarial LIME Model accuracy on test set: 0.7425\n"
     ]
    }
   ],
   "source": [
    "# adv_lime_model = Adversarial_Lime_Model(f_obscure, psi_display, perturbation_std=LIME_PERTURBATION_STD)\n",
    "# adv_lime_model.train(x_train, feature_names, perturbation_multiplier=LIME_PERTURBATION_MULTIPLIER)\n",
    "adv_lime_model = CombinedAdversarialModel(f_obscure, psi_display)\n",
    "adv_lime_model.train(x_train, feature_names)\n",
    "print(f\"Adversarial LIME Model fidelity on test set: {adv_lime_model.fidelity(x_test):.4f}\")\n",
    "print(f\"Adversarial LIME Model accuracy on test set: {adv_lime_model.score(x_test, y_test):.4f}\")"
   ]
  },
  {
   "cell_type": "code",
   "execution_count": 23,
   "id": "45d615bf",
   "metadata": {},
   "outputs": [
    {
     "name": "stdout",
     "output_type": "stream",
     "text": [
      "\n",
      "=== Combined OOD Detection Report ===\n",
      "Samples processed: 2862\n",
      "LIME OOD detected: 0 (0.00%)\n",
      "SHAP OOD detected: 252 (8.81%)\n",
      "Combined OOD detected: 252 (8.81%)\n",
      "====================================\n"
     ]
    }
   ],
   "source": [
    "adv_lime_model.print_ood_stats(x_test)"
   ]
  },
  {
   "cell_type": "code",
   "execution_count": 24,
   "id": "fb1e55b6",
   "metadata": {},
   "outputs": [
    {
     "name": "stdout",
     "output_type": "stream",
     "text": [
      "--- OOD Generator: Generating LIME-style OOD data ---\n",
      "Generated 6675 LIME-style OOD samples (equal to in-distribution samples).\n",
      "--- OOD Detector: Training detector ---\n",
      "OOD Detector training complete. Accuracy: 0.9996\n",
      "OOD Detector Classification Report (1: In-Dist, 0: OOD):\n",
      "               precision    recall  f1-score   support\n",
      "\n",
      "           0       1.00      1.00      1.00      1335\n",
      "           1       1.00      1.00      1.00      1335\n",
      "\n",
      "    accuracy                           1.00      2670\n",
      "   macro avg       1.00      1.00      1.00      2670\n",
      "weighted avg       1.00      1.00      1.00      2670\n",
      "\n",
      "--- OOD Generator: Generating SHAP-style OOD data ---\n",
      "\n",
      "Generated 6675 SHAP-style OOD samples (equal to in-distribution samples).\n",
      "--- OOD Detector: Training detector ---\n",
      "OOD Detector training complete. Accuracy: 0.9004\n",
      "OOD Detector Classification Report (1: In-Dist, 0: OOD):\n",
      "               precision    recall  f1-score   support\n",
      "\n",
      "           0       0.90      0.90      0.90      1335\n",
      "           1       0.90      0.90      0.90      1335\n",
      "\n",
      "    accuracy                           0.90      2670\n",
      "   macro avg       0.90      0.90      0.90      2670\n",
      "weighted avg       0.90      0.90      0.90      2670\n",
      "\n",
      "Adversarial SHAP Model fidelity on test set: 0.9930\n",
      "Adversarial SHAP Model accuracy on test set: 0.7425\n"
     ]
    }
   ],
   "source": [
    "# adv_shap_model = Adversarial_Kernel_SHAP_Model(f_obscure, psi_display)\n",
    "# adv_shap_model.train(x_train, feature_names, n_samples=SHAP_N_SAMPLES_OOD, n_kmeans=SHAP_N_KMEANS_BACKGROUND)\n",
    "adv_shap_model = CombinedAdversarialModel(f_obscure, psi_display)\n",
    "adv_shap_model.train(x_train, feature_names)\n",
    "print(f\"Adversarial SHAP Model fidelity on test set: {adv_shap_model.fidelity(x_test):.4f}\")\n",
    "print(f\"Adversarial SHAP Model accuracy on test set: {adv_shap_model.score(x_test, y_test):.4f}\")"
   ]
  },
  {
   "cell_type": "code",
   "execution_count": 25,
   "id": "5b8dac31",
   "metadata": {},
   "outputs": [
    {
     "name": "stdout",
     "output_type": "stream",
     "text": [
      "\n",
      "=== Combined OOD Detection Report ===\n",
      "Samples processed: 2862\n",
      "LIME OOD detected: 0 (0.00%)\n",
      "SHAP OOD detected: 252 (8.81%)\n",
      "Combined OOD detected: 252 (8.81%)\n",
      "====================================\n"
     ]
    }
   ],
   "source": [
    "adv_shap_model.print_ood_stats(x_test)"
   ]
  },
  {
   "cell_type": "code",
   "execution_count": 26,
   "id": "faccf112",
   "metadata": {},
   "outputs": [
    {
     "name": "stdout",
     "output_type": "stream",
     "text": [
      "\n",
      "Explaining instance 1 (true label: 0, f_obscure predicts: [0])\n"
     ]
    },
    {
     "data": {
      "text/html": [
       "<div>\n",
       "<style scoped>\n",
       "    .dataframe tbody tr th:only-of-type {\n",
       "        vertical-align: middle;\n",
       "    }\n",
       "\n",
       "    .dataframe tbody tr th {\n",
       "        vertical-align: top;\n",
       "    }\n",
       "\n",
       "    .dataframe thead th {\n",
       "        text-align: right;\n",
       "    }\n",
       "</style>\n",
       "<table border=\"1\" class=\"dataframe\">\n",
       "  <thead>\n",
       "    <tr style=\"text-align: right;\">\n",
       "      <th></th>\n",
       "      <th>network_packet_size</th>\n",
       "      <th>protocol_type</th>\n",
       "      <th>login_attempts</th>\n",
       "      <th>session_duration</th>\n",
       "      <th>encryption_used</th>\n",
       "      <th>ip_reputation_score</th>\n",
       "      <th>failed_logins</th>\n",
       "      <th>unusual_time_access</th>\n",
       "      <th>has_failed_logins</th>\n",
       "    </tr>\n",
       "  </thead>\n",
       "  <tbody>\n",
       "    <tr>\n",
       "      <th>1824</th>\n",
       "      <td>0.163002</td>\n",
       "      <td>1</td>\n",
       "      <td>-0.027408</td>\n",
       "      <td>0.257462</td>\n",
       "      <td>0.0</td>\n",
       "      <td>1.54642</td>\n",
       "      <td>0.461359</td>\n",
       "      <td>0</td>\n",
       "      <td>1</td>\n",
       "    </tr>\n",
       "  </tbody>\n",
       "</table>\n",
       "</div>"
      ],
      "text/plain": [
       "      network_packet_size  protocol_type  login_attempts  session_duration  \\\n",
       "1824             0.163002              1       -0.027408          0.257462   \n",
       "\n",
       "      encryption_used  ip_reputation_score  failed_logins  \\\n",
       "1824              0.0              1.54642       0.461359   \n",
       "\n",
       "      unusual_time_access  has_failed_logins  \n",
       "1824                    0                  1  "
      ]
     },
     "execution_count": 26,
     "metadata": {},
     "output_type": "execute_result"
    }
   ],
   "source": [
    "# Select an instance from the test set to explain\n",
    "instance_to_explain_idx = 1 # Choose the first test instance\n",
    "instance_to_explain = np.array(x_test.iloc[[instance_to_explain_idx]])\n",
    "original_prediction = f_obscure.predict(instance_to_explain)\n",
    "print(f\"\\nExplaining instance {instance_to_explain_idx} (true label: {y_test.iloc[instance_to_explain_idx]}, f_obscure predicts: {original_prediction})\")\n",
    "x_test.iloc[[instance_to_explain_idx]]\n"
   ]
  },
  {
   "cell_type": "code",
   "execution_count": 27,
   "id": "8c575452",
   "metadata": {},
   "outputs": [],
   "source": [
    "# LIME for f_obscure\n",
    "lime_exp_f_obscure = get_lime_explanation(\n",
    "        f_obscure,\n",
    "        instance_to_explain,\n",
    "        feature_names,\n",
    "        x_train, # LIME explainer needs training data for background distribution\n",
    "        class_names=['Benign', 'Malicious']\n",
    "    )\n",
    "# print_explanation(lime_exp_f_obscure, feature_names, \"LIME Explanation (Original Biased Model)\", predicted_class=original_prediction)"
   ]
  },
  {
   "cell_type": "code",
   "execution_count": 28,
   "id": "d81363f3",
   "metadata": {},
   "outputs": [],
   "source": [
    "shap_background_f_obscure = shap.sample(x_train, 100)\n",
    "shap_exp_f_obscure = get_shap_explanation(\n",
    "        f_obscure,\n",
    "        instance_to_explain.reshape(1, -1), # SHAP expects 2D array\n",
    "        feature_names,\n",
    "        shap_background_f_obscure,\n",
    "        class_names=['Benign', 'Malicious'],\n",
    "        explainer_type='kernel'\n",
    "    )\n",
    "# print_explanation(shap_exp_f_obscure, feature_names, \"SHAP Kernel Explanation (Original Biased Model)\", predicted_class=original_prediction)"
   ]
  },
  {
   "cell_type": "code",
   "execution_count": 29,
   "id": "92673fe2",
   "metadata": {},
   "outputs": [],
   "source": [
    "# LIME for Adversarial LIME Model\n",
    "lime_exp_adv_lime = get_lime_explanation(\n",
    "        adv_lime_model,\n",
    "        instance_to_explain,\n",
    "        feature_names,\n",
    "        x_train, # LIME explainer needs training data for background distribution\n",
    "        class_names=['Benign', 'Malicious']\n",
    "    )\n",
    "# print_explanation(lime_exp_adv_lime, feature_names, \"LIME Explanation (Adversarial LIME Model)\", predicted_class=original_prediction)"
   ]
  },
  {
   "cell_type": "code",
   "execution_count": 30,
   "id": "0370e620",
   "metadata": {},
   "outputs": [],
   "source": [
    "# SHAP (KernelExplainer) for Adversarial SHAP Model\n",
    "shap_background_adv_shap = shap.sample(x_train, 100) # Use a sample of training data for background\n",
    "shap_exp_adv_shap = get_shap_explanation(\n",
    "        adv_shap_model,\n",
    "        instance_to_explain.reshape(1, -1), # SHAP expects 2D array\n",
    "        feature_names,\n",
    "        shap_background_adv_shap,\n",
    "        class_names=['Benign', 'Malicious'],\n",
    "        explainer_type='kernel'\n",
    "    )\n",
    "# print_explanation(shap_exp_adv_shap, feature_names, \"SHAP Kernel Explanation (Adversarial SHAP Model)\", predicted_class=original_prediction)"
   ]
  },
  {
   "cell_type": "code",
   "execution_count": 31,
   "id": "3a7c5cde",
   "metadata": {},
   "outputs": [
    {
     "data": {
      "image/png": "[encoded data removed]",
      "text/plain": [
       "<Figure size 600x300 with 1 Axes>"
      ]
     },
     "metadata": {},
     "output_type": "display_data"
    }
   ],
   "source": [
    "# Plot LIME explanations comparison\n",
    "plot_explanation_comparison(\n",
    "        lime_exp_f_obscure,\n",
    "        lime_exp_adv_lime,\n",
    "        feature_names,\n",
    "        protected_feature,\n",
    "        \"LIME\",\n",
    "        predicted_class=original_prediction\n",
    "    )"
   ]
  },
  {
   "cell_type": "code",
   "execution_count": 32,
   "id": "2b2d1418",
   "metadata": {},
   "outputs": [
    {
     "data": {
      "image/png": "[encoded data removed]",
      "text/plain": [
       "<Figure size 600x300 with 1 Axes>"
      ]
     },
     "metadata": {},
     "output_type": "display_data"
    }
   ],
   "source": [
    "# Plot SHAP explanations comparison\n",
    "plot_explanation_comparison(\n",
    "        shap_exp_f_obscure,\n",
    "        shap_exp_adv_shap,\n",
    "        feature_names,\n",
    "        protected_feature,\n",
    "        \"SHAP\",\n",
    "        predicted_class=original_prediction\n",
    "    )"
   ]
  },
  {
   "cell_type": "code",
   "execution_count": 33,
   "id": "1bde33e3",
   "metadata": {},
   "outputs": [],
   "source": [
    "X_test, X_train = np.array(x_test), np.array(x_train)"
   ]
  },
  {
   "cell_type": "code",
   "execution_count": 34,
   "id": "8b2c0eda",
   "metadata": {},
   "outputs": [],
   "source": [
    "def get_categorical_feature_indices(all_feature_names: list, numerical_feature_names: list) -> list:\n",
    "    \"\"\"\n",
    "    Identifies categorical feature names and their indices by excluding numerical features\n",
    "    from the complete list of feature names.\n",
    "\n",
    "    Args:\n",
    "        all_feature_names (list): A list containing all feature names in their original order.\n",
    "        numerical_feature_names (list): A list containing the names of numerical features.\n",
    "\n",
    "    Returns:\n",
    "        list: A sorted list of integer indices corresponding to the categorical features.\n",
    "    \"\"\"\n",
    "    # Convert numerical_feature_names to a set for efficient lookup\n",
    "    numerical_features_set = set(numerical_feature_names)\n",
    "\n",
    "    categorical_feature_names = []\n",
    "    categorical_feature_indices = []\n",
    "\n",
    "    # Iterate through all feature names to identify categorical ones\n",
    "    for i, feature_name in enumerate(all_feature_names):\n",
    "        if feature_name not in numerical_features_set:\n",
    "            categorical_feature_names.append(feature_name)\n",
    "            categorical_feature_indices.append(i)\n",
    "\n",
    "    # Sort the indices to ensure consistent order\n",
    "    categorical_feature_indices.sort()\n",
    "\n",
    "    return categorical_feature_indices"
   ]
  },
  {
   "cell_type": "code",
   "execution_count": 35,
   "id": "db6770b6",
   "metadata": {},
   "outputs": [],
   "source": [
    "# Use a sample of the test data for frequency analysis\n",
    "num_instances_for_frequency_analysis = min(1000, X_test.shape[0]) # Increased sample size for better statistics\n",
    "X_freq_sample = X_test[:num_instances_for_frequency_analysis]\n",
    "# Get predictions for each model on the sample for correct 'predicted_class'\n",
    "y_pred_freq_sample_f_obscure = f_obscure.predict(X_freq_sample)\n",
    "y_pred_freq_sample_adv_lime = adv_lime_model.predict(X_freq_sample)\n",
    "y_pred_freq_sample_adv_shap = adv_shap_model.predict(X_freq_sample)\n",
    "\n",
    "# SHAP background data for frequency analysis\n",
    "shap_background_freq = shap.sample(X_train, 100)\n",
    "\n",
    "top_n_for_rank_plot = 5\n",
    "\n",
    "lime_categorical_features_indices = get_categorical_feature_indices(x_train.columns, ['network_packet_size', 'login_attempts', 'session_duration', 'ip_reputation_score', 'failed_logins'])"
   ]
  },
  {
   "cell_type": "code",
   "execution_count": 36,
   "id": "14107f70",
   "metadata": {},
   "outputs": [
    {
     "data": {
      "image/png": "[encoded data removed]",
      "text/plain": [
       "<Figure size 600x300 with 2 Axes>"
      ]
     },
     "metadata": {},
     "output_type": "display_data"
    }
   ],
   "source": [
    "# --- LIME Rank Frequency Analysis ---\n",
    "lime_rank_freq_data = {}\n",
    "lime_rank_freq_data['Original Biased Model'] = get_feature_rank_frequencies(\n",
    "        f_obscure, 'lime', X_freq_sample, feature_names, y_pred_freq_sample_f_obscure,\n",
    "        X_train, None, top_n=top_n_for_rank_plot, class_names=['Benign', 'Malicious'],\n",
    "        categorical_feature_indices=lime_categorical_features_indices # <--- PASS ALL CATEGORICAL INDICES\n",
    "    )\n",
    "lime_rank_freq_data['Adversarial Model'] = get_feature_rank_frequencies(\n",
    "        adv_lime_model, 'lime', X_freq_sample, feature_names, y_pred_freq_sample_adv_lime,\n",
    "        X_train, None, top_n=top_n_for_rank_plot, class_names=['Benign', 'Malicious'],\n",
    "        categorical_feature_indices=lime_categorical_features_indices # <--- PASS ALL CATEGORICAL INDICES\n",
    "    )\n",
    "\n",
    "plot_feature_rank_distribution(\n",
    "        lime_rank_freq_data, 'LIME', protected_feature,\n",
    "        \"LIME\", top_n=top_n_for_rank_plot\n",
    "    )"
   ]
  },
  {
   "cell_type": "code",
   "execution_count": 37,
   "id": "406446ff",
   "metadata": {},
   "outputs": [
    {
     "data": {
      "image/png": "[encoded data removed]",
      "text/plain": [
       "<Figure size 600x300 with 2 Axes>"
      ]
     },
     "metadata": {},
     "output_type": "display_data"
    }
   ],
   "source": [
    "# --- SHAP Rank Frequency Analysis ---\n",
    "shap_rank_freq_data = {}\n",
    "shap_rank_freq_data['Original Biased Model'] = get_feature_rank_frequencies(\n",
    "        f_obscure, 'shap', X_freq_sample, feature_names, y_pred_freq_sample_f_obscure,\n",
    "        None, shap_background_freq, top_n=top_n_for_rank_plot, class_names=['Benign', 'Malicious']\n",
    "    )\n",
    "shap_rank_freq_data['Adversarial Model'] = get_feature_rank_frequencies(\n",
    "        adv_shap_model, 'shap', X_freq_sample, feature_names, y_pred_freq_sample_adv_shap,\n",
    "        None, shap_background_freq, top_n=top_n_for_rank_plot, class_names=['Benign', 'Malicious']\n",
    "    )\n",
    "# REMOVED: The 'Innocuous (psi)' model is no longer included in the plot data.\n",
    "# shap_rank_freq_data['Innocuous (psi)'] = get_feature_rank_frequencies(\n",
    "#         psi_display, 'shap', X_freq_sample, feature_names, y_pred_freq_sample_f_obscure,\n",
    "#         None, shap_background_freq, top_n=top_n_for_rank_plot, class_names=['Benign', 'Malicious']\n",
    "#     )\n",
    "\n",
    "plot_feature_rank_distribution(\n",
    "        shap_rank_freq_data, 'SHAP', protected_feature, # Ensure 'protected_feature' is defined in your notebook\n",
    "        \"SHAP\", top_n=top_n_for_rank_plot\n",
    "    )"
   ]
  }
 ],
 "metadata": {
  "kernelspec": {
   "display_name": "Python 3",
   "language": "python",
   "name": "python3"
  },
  "language_info": {
   "codemirror_mode": {
    "name": "ipython",
    "version": 3
   },
   "file_extension": ".py",
   "mimetype": "text/x-python",
   "name": "python",
   "nbconvert_exporter": "python",
   "pygments_lexer": "ipython3",
   "version": "3.10.9"
  }
 },
 "nbformat": 4,
 "nbformat_minor": 5
}
