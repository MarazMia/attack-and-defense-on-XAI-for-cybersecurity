{
 "cells": [
  {
   "cell_type": "code",
   "execution_count": 17,
   "id": "796b59a1",
   "metadata": {},
   "outputs": [],
   "source": [
    "import os\n",
    "import sys\n",
    "\n",
    "def add_to_sys_path(relative_path):\n",
    "    abs_path = os.path.abspath(os.path.join(os.getcwd(), relative_path))\n",
    "    if abs_path not in sys.path:\n",
    "        sys.path.append(abs_path)\n",
    "\n",
    "add_to_sys_path(os.path.join('..', '..', '..', 'Utils'))\n",
    "add_to_sys_path(os.path.join('..', '..', '..', 'Model'))\n",
    "add_to_sys_path(os.path.join('..', '..', '..', 'Biased Sampling'))"
   ]
  },
  {
   "cell_type": "code",
   "execution_count": 18,
   "id": "cf27fbdd",
   "metadata": {},
   "outputs": [],
   "source": [
    "import pandas as pd\n",
    "\n",
    "from LR import base_model as base_model_call\n",
    "from model_data_processing import Data_Handler, Model_Metrics_Visualizer\n",
    "from stealthy_sampling import *"
   ]
  },
  {
   "cell_type": "code",
   "execution_count": 19,
   "id": "91d108af",
   "metadata": {},
   "outputs": [
    {
     "name": "stderr",
     "output_type": "stream",
     "text": [
      "Downcasting behavior in `replace` is deprecated and will be removed in a future version. To retain the old behavior, explicitly call `result.infer_objects(copy=False)`. To opt-in to the future behavior, set `pd.set_option('future.no_silent_downcasting', True)`\n"
     ]
    },
    {
     "data": {
      "text/html": [
       "<div>\n",
       "<style scoped>\n",
       "    .dataframe tbody tr th:only-of-type {\n",
       "        vertical-align: middle;\n",
       "    }\n",
       "\n",
       "    .dataframe tbody tr th {\n",
       "        vertical-align: top;\n",
       "    }\n",
       "\n",
       "    .dataframe thead th {\n",
       "        text-align: right;\n",
       "    }\n",
       "</style>\n",
       "<table border=\"1\" class=\"dataframe\">\n",
       "  <thead>\n",
       "    <tr style=\"text-align: right;\">\n",
       "      <th></th>\n",
       "      <th>Label</th>\n",
       "      <th>Domain length</th>\n",
       "      <th>Top domain length</th>\n",
       "      <th>Presence of prefix 'www'</th>\n",
       "      <th>Number  of digits</th>\n",
       "      <th>Number  of letters</th>\n",
       "      <th>Number  of dots (.)</th>\n",
       "      <th>Number  of hyphens (-)</th>\n",
       "      <th>Presence of credit card payment</th>\n",
       "      <th>Presence of money back payment</th>\n",
       "      <th>...</th>\n",
       "      <th>Presence of crypto currency</th>\n",
       "      <th>Presence of free contact emails</th>\n",
       "      <th>Presence of logo URL</th>\n",
       "      <th>SSL certificate issuer organization list item</th>\n",
       "      <th>Indication of young domain</th>\n",
       "      <th>Presence of TrustPilot reviews</th>\n",
       "      <th>TrustPilot score</th>\n",
       "      <th>Presence of SiteJabber reviews</th>\n",
       "      <th>Presence in the standard Tranco list</th>\n",
       "      <th>Tranco List rank</th>\n",
       "    </tr>\n",
       "  </thead>\n",
       "  <tbody>\n",
       "    <tr>\n",
       "      <th>0</th>\n",
       "      <td>0</td>\n",
       "      <td>24</td>\n",
       "      <td>3</td>\n",
       "      <td>1</td>\n",
       "      <td>0</td>\n",
       "      <td>27</td>\n",
       "      <td>2</td>\n",
       "      <td>0</td>\n",
       "      <td>1</td>\n",
       "      <td>1</td>\n",
       "      <td>...</td>\n",
       "      <td>0</td>\n",
       "      <td>0</td>\n",
       "      <td>0</td>\n",
       "      <td>9</td>\n",
       "      <td>1</td>\n",
       "      <td>0</td>\n",
       "      <td>NaN</td>\n",
       "      <td>0</td>\n",
       "      <td>0</td>\n",
       "      <td>-1</td>\n",
       "    </tr>\n",
       "    <tr>\n",
       "      <th>1</th>\n",
       "      <td>0</td>\n",
       "      <td>18</td>\n",
       "      <td>4</td>\n",
       "      <td>1</td>\n",
       "      <td>0</td>\n",
       "      <td>20</td>\n",
       "      <td>2</td>\n",
       "      <td>1</td>\n",
       "      <td>0</td>\n",
       "      <td>1</td>\n",
       "      <td>...</td>\n",
       "      <td>0</td>\n",
       "      <td>1</td>\n",
       "      <td>0</td>\n",
       "      <td>1</td>\n",
       "      <td>1</td>\n",
       "      <td>0</td>\n",
       "      <td>NaN</td>\n",
       "      <td>0</td>\n",
       "      <td>0</td>\n",
       "      <td>-1</td>\n",
       "    </tr>\n",
       "    <tr>\n",
       "      <th>2</th>\n",
       "      <td>1</td>\n",
       "      <td>28</td>\n",
       "      <td>2</td>\n",
       "      <td>1</td>\n",
       "      <td>0</td>\n",
       "      <td>30</td>\n",
       "      <td>2</td>\n",
       "      <td>1</td>\n",
       "      <td>1</td>\n",
       "      <td>0</td>\n",
       "      <td>...</td>\n",
       "      <td>0</td>\n",
       "      <td>1</td>\n",
       "      <td>1</td>\n",
       "      <td>2</td>\n",
       "      <td>1</td>\n",
       "      <td>0</td>\n",
       "      <td>-1.0</td>\n",
       "      <td>0</td>\n",
       "      <td>0</td>\n",
       "      <td>-1</td>\n",
       "    </tr>\n",
       "    <tr>\n",
       "      <th>3</th>\n",
       "      <td>1</td>\n",
       "      <td>13</td>\n",
       "      <td>2</td>\n",
       "      <td>0</td>\n",
       "      <td>0</td>\n",
       "      <td>17</td>\n",
       "      <td>1</td>\n",
       "      <td>0</td>\n",
       "      <td>1</td>\n",
       "      <td>0</td>\n",
       "      <td>...</td>\n",
       "      <td>0</td>\n",
       "      <td>1</td>\n",
       "      <td>1</td>\n",
       "      <td>9</td>\n",
       "      <td>1</td>\n",
       "      <td>0</td>\n",
       "      <td>-1.0</td>\n",
       "      <td>0</td>\n",
       "      <td>0</td>\n",
       "      <td>-1</td>\n",
       "    </tr>\n",
       "    <tr>\n",
       "      <th>4</th>\n",
       "      <td>0</td>\n",
       "      <td>19</td>\n",
       "      <td>3</td>\n",
       "      <td>1</td>\n",
       "      <td>0</td>\n",
       "      <td>22</td>\n",
       "      <td>2</td>\n",
       "      <td>0</td>\n",
       "      <td>1</td>\n",
       "      <td>1</td>\n",
       "      <td>...</td>\n",
       "      <td>0</td>\n",
       "      <td>0</td>\n",
       "      <td>1</td>\n",
       "      <td>2</td>\n",
       "      <td>1</td>\n",
       "      <td>0</td>\n",
       "      <td>NaN</td>\n",
       "      <td>0</td>\n",
       "      <td>0</td>\n",
       "      <td>-1</td>\n",
       "    </tr>\n",
       "  </tbody>\n",
       "</table>\n",
       "<p>5 rows × 21 columns</p>\n",
       "</div>"
      ],
      "text/plain": [
       "   Label  Domain length  Top domain length  Presence of prefix 'www'   \\\n",
       "0      0             24                  3                          1   \n",
       "1      0             18                  4                          1   \n",
       "2      1             28                  2                          1   \n",
       "3      1             13                  2                          0   \n",
       "4      0             19                  3                          1   \n",
       "\n",
       "   Number  of digits  Number  of letters  Number  of dots (.)  \\\n",
       "0                  0                  27                    2   \n",
       "1                  0                  20                    2   \n",
       "2                  0                  30                    2   \n",
       "3                  0                  17                    1   \n",
       "4                  0                  22                    2   \n",
       "\n",
       "   Number  of hyphens (-)  Presence of credit card payment  \\\n",
       "0                       0                                1   \n",
       "1                       1                                0   \n",
       "2                       1                                1   \n",
       "3                       0                                1   \n",
       "4                       0                                1   \n",
       "\n",
       "   Presence of money back payment  ...  Presence of crypto currency  \\\n",
       "0                               1  ...                            0   \n",
       "1                               1  ...                            0   \n",
       "2                               0  ...                            0   \n",
       "3                               0  ...                            0   \n",
       "4                               1  ...                            0   \n",
       "\n",
       "   Presence of free contact emails  Presence of logo URL  \\\n",
       "0                                0                     0   \n",
       "1                                1                     0   \n",
       "2                                1                     1   \n",
       "3                                1                     1   \n",
       "4                                0                     1   \n",
       "\n",
       "   SSL certificate issuer organization list item  Indication of young domain   \\\n",
       "0                                              9                            1   \n",
       "1                                              1                            1   \n",
       "2                                              2                            1   \n",
       "3                                              9                            1   \n",
       "4                                              2                            1   \n",
       "\n",
       "   Presence of TrustPilot reviews  TrustPilot score  \\\n",
       "0                               0               NaN   \n",
       "1                               0               NaN   \n",
       "2                               0              -1.0   \n",
       "3                               0              -1.0   \n",
       "4                               0               NaN   \n",
       "\n",
       "   Presence of SiteJabber reviews  Presence in the standard Tranco list  \\\n",
       "0                               0                                     0   \n",
       "1                               0                                     0   \n",
       "2                               0                                     0   \n",
       "3                               0                                     0   \n",
       "4                               0                                     0   \n",
       "\n",
       "   Tranco List rank  \n",
       "0                -1  \n",
       "1                -1  \n",
       "2                -1  \n",
       "3                -1  \n",
       "4                -1  \n",
       "\n",
       "[5 rows x 21 columns]"
      ]
     },
     "execution_count": 19,
     "metadata": {},
     "output_type": "execute_result"
    }
   ],
   "source": [
    "data = pd.read_csv('../../../Dataset/Fraudulent_online_shops_dataset.csv')\n",
    "data['Label'] = data['Label'].replace({'fraudulent': 0, 'legitimate': 1})\n",
    "data['Presence of free contact emails'] = data['Presence of free contact emails'].replace({2: 1, 3: 1})\n",
    "data['Indication of young domain '] = data['Indication of young domain '].replace({2: 1})\n",
    "data = data.drop(data.select_dtypes(include='object').columns, axis=1)\n",
    "protected_feature=\"Indication of young domain \"\n",
    "data.head()"
   ]
  },
  {
   "cell_type": "code",
   "execution_count": 20,
   "id": "438c9c80",
   "metadata": {},
   "outputs": [
    {
     "data": {
      "text/plain": [
       "Indication of young domain \n",
       "1    590\n",
       "0    550\n",
       "Name: count, dtype: int64"
      ]
     },
     "execution_count": 20,
     "metadata": {},
     "output_type": "execute_result"
    }
   ],
   "source": [
    "data[protected_feature].value_counts()"
   ]
  },
  {
   "cell_type": "code",
   "execution_count": 21,
   "id": "3c8182c9",
   "metadata": {},
   "outputs": [
    {
     "data": {
      "text/plain": [
       "Label\n",
       "0    579\n",
       "1    561\n",
       "Name: count, dtype: int64"
      ]
     },
     "execution_count": 21,
     "metadata": {},
     "output_type": "execute_result"
    }
   ],
   "source": [
    "data['Label'].value_counts()"
   ]
  },
  {
   "cell_type": "code",
   "execution_count": 22,
   "id": "07260bdd",
   "metadata": {},
   "outputs": [
    {
     "name": "stdout",
     "output_type": "stream",
     "text": [
      "\n",
      "Applying feature correlation removal...\n",
      "Scaling only continuous numerical features (excluding heuristic categoricals and protected feature by default).\n",
      "Features actually being scaled: ['Domain length', 'Top domain length']\n"
     ]
    }
   ],
   "source": [
    "x_train, x_test, y_train, y_test, feature_names, scaler = Data_Handler(\n",
    "        df=data,\n",
    "        target_column='Label',\n",
    "        protected_feature=protected_feature,\n",
    "        do_scaling=True,\n",
    "        correlation_threshold=0.35,\n",
    "        test_size=0.3,\n",
    "        random_state=0\n",
    "    )"
   ]
  },
  {
   "cell_type": "code",
   "execution_count": 23,
   "id": "c03db8cc",
   "metadata": {},
   "outputs": [
    {
     "name": "stdout",
     "output_type": "stream",
     "text": [
      "12\n"
     ]
    },
    {
     "data": {
      "text/html": [
       "<div>\n",
       "<style scoped>\n",
       "    .dataframe tbody tr th:only-of-type {\n",
       "        vertical-align: middle;\n",
       "    }\n",
       "\n",
       "    .dataframe tbody tr th {\n",
       "        vertical-align: top;\n",
       "    }\n",
       "\n",
       "    .dataframe thead th {\n",
       "        text-align: right;\n",
       "    }\n",
       "</style>\n",
       "<table border=\"1\" class=\"dataframe\">\n",
       "  <thead>\n",
       "    <tr style=\"text-align: right;\">\n",
       "      <th></th>\n",
       "      <th>Domain length</th>\n",
       "      <th>Top domain length</th>\n",
       "      <th>Number  of digits</th>\n",
       "      <th>Number  of hyphens (-)</th>\n",
       "      <th>Presence of credit card payment</th>\n",
       "      <th>Presence of cash on delivery payment</th>\n",
       "      <th>Presence of crypto currency</th>\n",
       "      <th>Presence of free contact emails</th>\n",
       "      <th>Presence of logo URL</th>\n",
       "      <th>Presence of SiteJabber reviews</th>\n",
       "      <th>Presence in the standard Tranco list</th>\n",
       "      <th>Indication of young domain</th>\n",
       "    </tr>\n",
       "  </thead>\n",
       "  <tbody>\n",
       "    <tr>\n",
       "      <th>665</th>\n",
       "      <td>-0.319739</td>\n",
       "      <td>-1.147256</td>\n",
       "      <td>0</td>\n",
       "      <td>0</td>\n",
       "      <td>1</td>\n",
       "      <td>0</td>\n",
       "      <td>0</td>\n",
       "      <td>1</td>\n",
       "      <td>1</td>\n",
       "      <td>0</td>\n",
       "      <td>0</td>\n",
       "      <td>0</td>\n",
       "    </tr>\n",
       "    <tr>\n",
       "      <th>901</th>\n",
       "      <td>-0.763097</td>\n",
       "      <td>0.175736</td>\n",
       "      <td>1</td>\n",
       "      <td>0</td>\n",
       "      <td>1</td>\n",
       "      <td>1</td>\n",
       "      <td>0</td>\n",
       "      <td>1</td>\n",
       "      <td>1</td>\n",
       "      <td>0</td>\n",
       "      <td>0</td>\n",
       "      <td>0</td>\n",
       "    </tr>\n",
       "    <tr>\n",
       "      <th>131</th>\n",
       "      <td>0.788654</td>\n",
       "      <td>0.175736</td>\n",
       "      <td>0</td>\n",
       "      <td>0</td>\n",
       "      <td>0</td>\n",
       "      <td>0</td>\n",
       "      <td>0</td>\n",
       "      <td>0</td>\n",
       "      <td>0</td>\n",
       "      <td>0</td>\n",
       "      <td>0</td>\n",
       "      <td>1</td>\n",
       "    </tr>\n",
       "    <tr>\n",
       "      <th>252</th>\n",
       "      <td>-0.098061</td>\n",
       "      <td>0.175736</td>\n",
       "      <td>0</td>\n",
       "      <td>1</td>\n",
       "      <td>0</td>\n",
       "      <td>0</td>\n",
       "      <td>0</td>\n",
       "      <td>1</td>\n",
       "      <td>1</td>\n",
       "      <td>0</td>\n",
       "      <td>0</td>\n",
       "      <td>0</td>\n",
       "    </tr>\n",
       "    <tr>\n",
       "      <th>330</th>\n",
       "      <td>1.897047</td>\n",
       "      <td>0.175736</td>\n",
       "      <td>0</td>\n",
       "      <td>0</td>\n",
       "      <td>1</td>\n",
       "      <td>1</td>\n",
       "      <td>0</td>\n",
       "      <td>1</td>\n",
       "      <td>0</td>\n",
       "      <td>0</td>\n",
       "      <td>0</td>\n",
       "      <td>0</td>\n",
       "    </tr>\n",
       "  </tbody>\n",
       "</table>\n",
       "</div>"
      ],
      "text/plain": [
       "     Domain length  Top domain length  Number  of digits  \\\n",
       "665      -0.319739          -1.147256                  0   \n",
       "901      -0.763097           0.175736                  1   \n",
       "131       0.788654           0.175736                  0   \n",
       "252      -0.098061           0.175736                  0   \n",
       "330       1.897047           0.175736                  0   \n",
       "\n",
       "     Number  of hyphens (-)  Presence of credit card payment  \\\n",
       "665                       0                                1   \n",
       "901                       0                                1   \n",
       "131                       0                                0   \n",
       "252                       1                                0   \n",
       "330                       0                                1   \n",
       "\n",
       "     Presence of cash on delivery payment  Presence of crypto currency  \\\n",
       "665                                     0                            0   \n",
       "901                                     1                            0   \n",
       "131                                     0                            0   \n",
       "252                                     0                            0   \n",
       "330                                     1                            0   \n",
       "\n",
       "     Presence of free contact emails  Presence of logo URL  \\\n",
       "665                                1                     1   \n",
       "901                                1                     1   \n",
       "131                                0                     0   \n",
       "252                                1                     1   \n",
       "330                                1                     0   \n",
       "\n",
       "     Presence of SiteJabber reviews  Presence in the standard Tranco list  \\\n",
       "665                               0                                     0   \n",
       "901                               0                                     0   \n",
       "131                               0                                     0   \n",
       "252                               0                                     0   \n",
       "330                               0                                     0   \n",
       "\n",
       "     Indication of young domain   \n",
       "665                            0  \n",
       "901                            0  \n",
       "131                            1  \n",
       "252                            0  \n",
       "330                            0  "
      ]
     },
     "execution_count": 23,
     "metadata": {},
     "output_type": "execute_result"
    }
   ],
   "source": [
    "print(len(x_train.columns))\n",
    "x_train.head()"
   ]
  },
  {
   "cell_type": "code",
   "execution_count": 24,
   "id": "930be58c",
   "metadata": {},
   "outputs": [
    {
     "name": "stdout",
     "output_type": "stream",
     "text": [
      "Accuracy: 0.8830409356725146\n",
      "Precision: 0.8830409356725146\n",
      "Recall: 0.8830409356725146\n",
      "F-1: 0.8830409356725146\n"
     ]
    },
    {
     "data": {
      "image/png": "[encoded data removed]",
      "text/plain": [
       "<Figure size 640x480 with 1 Axes>"
      ]
     },
     "metadata": {},
     "output_type": "display_data"
    }
   ],
   "source": [
    "model = base_model_call(x_train, y_train, protected_feature, True)\n",
    "y_pred = model.predict(x_test)\n",
    "Model_Metrics_Visualizer(y_test, y_pred)"
   ]
  },
  {
   "cell_type": "code",
   "execution_count": 25,
   "id": "7a94dbd7",
   "metadata": {},
   "outputs": [],
   "source": [
    "# Pass the DataFrame to the attacker class to maintain feature names for plotting\n",
    "attacker = AdversarialSHAPBackgroundAttack(\n",
    "        model=model,\n",
    "        X_train=x_train,\n",
    "        sensitive_feature_name=protected_feature,\n",
    "        sensitive_feature_index=list(x_train.columns).index(protected_feature),\n",
    "        explainer_type='linear',\n",
    "        background_size=200,\n",
    "        lambda_reg=1e-4,\n",
    "        gamma_entropy=1e-7\n",
    "    )"
   ]
  },
  {
   "cell_type": "code",
   "execution_count": 26,
   "id": "5c3858d2",
   "metadata": {},
   "outputs": [
    {
     "name": "stderr",
     "output_type": "stream",
     "text": [
      "Converting A to a CSC (compressed sparse column) matrix; may take a while.\n",
      "Converting P to a CSC (compressed sparse column) matrix; may take a while.\n"
     ]
    },
    {
     "name": "stdout",
     "output_type": "stream",
     "text": [
      "Running attack with LinearExplainer...\n",
      "[Before] Mean SHAP per feature:\n",
      "[ 0.03467321 -0.03103295 -0.00036263 -0.01816999  0.02791751  0.03923253\n",
      "  0.01538281 -0.03692408  0.0171599  -0.01818254 -0.00263352  0.01738356]\n",
      "Weight stats: min=0.004945054971757337, max=0.00504587153734004, mean=0.004999999999999908\n",
      "[After] Mean SHAP per feature:\n",
      "[ 5.40494089e-02 -3.10329474e-02 -3.26368845e-03 -1.11022302e-17\n",
      "  1.39587574e-02  2.61550229e-02 -1.53828081e-02  1.10772236e-01\n",
      "  3.43197964e-02  1.81825444e-02 -7.90055853e-03  5.21506894e-02]\n"
     ]
    },
    {
     "data": {
      "image/png": "[encoded data removed]",
      "text/plain": [
       "<Figure size 600x480 with 1 Axes>"
      ]
     },
     "metadata": {},
     "output_type": "display_data"
    }
   ],
   "source": [
    "biased_weights, before, after = attacker.run_attack()\n",
    "attacker.plot_shap_comparison(before, after)"
   ]
  },
  {
   "cell_type": "code",
   "execution_count": 27,
   "id": "9bd1e4ce",
   "metadata": {},
   "outputs": [
    {
     "name": "stdout",
     "output_type": "stream",
     "text": [
      "Sensitive feature 'Indication of young domain ' importance before attack: 0.0174\n",
      "Sensitive feature 'Indication of young domain ' importance after attack: 0.0522\n",
      "Change in importance: 0.0348 (200.00%)\n"
     ]
    }
   ],
   "source": [
    "print(f\"Sensitive feature '{protected_feature}' importance before attack: {before[attacker.sensitive_feature_index]:.4f}\")\n",
    "print(f\"Sensitive feature '{protected_feature}' importance after attack: {after[attacker.sensitive_feature_index]:.4f}\")\n",
    "    \n",
    "change = after[attacker.sensitive_feature_index] - before[attacker.sensitive_feature_index]\n",
    "pct_change = (change / before[attacker.sensitive_feature_index] * 100) if before[attacker.sensitive_feature_index] != 0 else float('inf')\n",
    "print(f\"Change in importance: {change:.4f} ({pct_change:.2f}%)\")"
   ]
  }
 ],
 "metadata": {
  "kernelspec": {
   "display_name": "Python 3",
   "language": "python",
   "name": "python3"
  },
  "language_info": {
   "codemirror_mode": {
    "name": "ipython",
    "version": 3
   },
   "file_extension": ".py",
   "mimetype": "text/x-python",
   "name": "python",
   "nbconvert_exporter": "python",
   "pygments_lexer": "ipython3",
   "version": "3.10.14"
  }
 },
 "nbformat": 4,
 "nbformat_minor": 5
}
